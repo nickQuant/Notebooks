{
 "cells": [
  {
   "cell_type": "code",
   "execution_count": 1,
   "metadata": {},
   "outputs": [
    {
     "output_type": "display_data",
     "data": {
      "text/plain": "<IPython.core.display.HTML object>",
      "text/html": "<style>.container { width:100% !important; }</style>"
     },
     "metadata": {}
    }
   ],
   "source": [
    "from __future__ import print_function\n",
    "\n",
    "import sys\n",
    "import pyodbc\n",
    "import datetime as dt\n",
    "import pandas as pd\n",
    "import numpy as np\n",
    "import matplotlib.pyplot as plt\n",
    "import time\n",
    "import math\n",
    "\n",
    "#make the layout full width\n",
    "from IPython.display import clear_output\n",
    "from IPython.core.display import display, HTML\n",
    "display(HTML(\"<style>.container { width:100% !important; }</style>\"))\n",
    "\n",
    "#prefer locally cached copy of SQL Server data.  If running from GitHib, unzip the RacingZone.7z\n",
    "runSql = False"
   ]
  },
  {
   "cell_type": "code",
   "execution_count": 2,
   "metadata": {},
   "outputs": [
    {
     "output_type": "execute_result",
     "data": {
      "text/plain": [
       "'C:\\\\Users\\\\nick\\\\source\\\\repos\\\\ExoticPinger\\\\Jupyter\\\\FinishingPositionProb'"
      ]
     },
     "metadata": {},
     "execution_count": 2
    }
   ],
   "source": [
    "#only required in VS Code - comment out if executing in the browser\n",
    "import os\n",
    "os.chdir('./ExoticPinger/Jupyter/FinishingPositionProb')\n",
    "os.getcwd()"
   ]
  },
  {
   "cell_type": "markdown",
   "metadata": {},
   "source": [
    "### Load data for each race in AU Thoroughbreds\n",
    "Data is from 1 Jan 2016 and is a local cache of the data avaialble at https://www.racingzone.com.au/results/"
   ]
  },
  {
   "cell_type": "code",
   "execution_count": 3,
   "metadata": {},
   "outputs": [
    {
     "output_type": "execute_result",
     "data": {
      "text/plain": [
       "   RacingZoneId MeetingName MeetingDate  RaceNo  FinishPos  Margin  \\\n",
       "0         51109    Pinjarra  2016-03-24       9          7     2.3   \n",
       "1         51110    Pinjarra  2016-03-24       9          8     2.5   \n",
       "2         51113    Pinjarra  2016-03-24       9         11     4.5   \n",
       "3         51116      Orange  2016-03-24       1          2     1.3   \n",
       "4         51118      Orange  2016-03-24       1          4     3.8   \n",
       "\n",
       "          RunnerName    SP  Settled  At1200  ...  At400  Comments TrackCond  \\\n",
       "0            Skellig  46.0       10       0  ...      9       NaN     GOOD3   \n",
       "1        Starry Dane  31.0        6       0  ...      6       NaN     GOOD3   \n",
       "2            Beckers  17.0       11       0  ...     10       NaN     GOOD3   \n",
       "3        The Penguin  17.0        8       0  ...      7       NaN     GOOD3   \n",
       "4  Four More Millers  31.0        2       0  ...      5       NaN     GOOD3   \n",
       "\n",
       "  PrizeMoney  Distance AgeSex                    TrainerJockey Gear Weight  \\\n",
       "0       18.0     1600m     4g   D S Pearce - C Johnston-Porter    B   58.5   \n",
       "1       18.0     1600m     4g   A G Durrant - Joseph Azzopardi   na   56.0   \n",
       "2       18.0     1600m     4g             A G Durrant - W Pike   na   57.0   \n",
       "3       15.0     1150m     4g    Ms G Williams - Aaron Sweeney    B   53.5   \n",
       "4       15.0     1150m     4g  S I Singleton - Crystal Conning   na   52.0   \n",
       "\n",
       "   Barrier  \n",
       "0       10  \n",
       "1        1  \n",
       "2       11  \n",
       "3        8  \n",
       "4        3  \n",
       "\n",
       "[5 rows x 21 columns]"
      ],
      "text/html": "<div>\n<style scoped>\n    .dataframe tbody tr th:only-of-type {\n        vertical-align: middle;\n    }\n\n    .dataframe tbody tr th {\n        vertical-align: top;\n    }\n\n    .dataframe thead th {\n        text-align: right;\n    }\n</style>\n<table border=\"1\" class=\"dataframe\">\n  <thead>\n    <tr style=\"text-align: right;\">\n      <th></th>\n      <th>RacingZoneId</th>\n      <th>MeetingName</th>\n      <th>MeetingDate</th>\n      <th>RaceNo</th>\n      <th>FinishPos</th>\n      <th>Margin</th>\n      <th>RunnerName</th>\n      <th>SP</th>\n      <th>Settled</th>\n      <th>At1200</th>\n      <th>...</th>\n      <th>At400</th>\n      <th>Comments</th>\n      <th>TrackCond</th>\n      <th>PrizeMoney</th>\n      <th>Distance</th>\n      <th>AgeSex</th>\n      <th>TrainerJockey</th>\n      <th>Gear</th>\n      <th>Weight</th>\n      <th>Barrier</th>\n    </tr>\n  </thead>\n  <tbody>\n    <tr>\n      <td>0</td>\n      <td>51109</td>\n      <td>Pinjarra</td>\n      <td>2016-03-24</td>\n      <td>9</td>\n      <td>7</td>\n      <td>2.3</td>\n      <td>Skellig</td>\n      <td>46.0</td>\n      <td>10</td>\n      <td>0</td>\n      <td>...</td>\n      <td>9</td>\n      <td>NaN</td>\n      <td>GOOD3</td>\n      <td>18.0</td>\n      <td>1600m</td>\n      <td>4g</td>\n      <td>D S Pearce - C Johnston-Porter</td>\n      <td>B</td>\n      <td>58.5</td>\n      <td>10</td>\n    </tr>\n    <tr>\n      <td>1</td>\n      <td>51110</td>\n      <td>Pinjarra</td>\n      <td>2016-03-24</td>\n      <td>9</td>\n      <td>8</td>\n      <td>2.5</td>\n      <td>Starry Dane</td>\n      <td>31.0</td>\n      <td>6</td>\n      <td>0</td>\n      <td>...</td>\n      <td>6</td>\n      <td>NaN</td>\n      <td>GOOD3</td>\n      <td>18.0</td>\n      <td>1600m</td>\n      <td>4g</td>\n      <td>A G Durrant - Joseph Azzopardi</td>\n      <td>na</td>\n      <td>56.0</td>\n      <td>1</td>\n    </tr>\n    <tr>\n      <td>2</td>\n      <td>51113</td>\n      <td>Pinjarra</td>\n      <td>2016-03-24</td>\n      <td>9</td>\n      <td>11</td>\n      <td>4.5</td>\n      <td>Beckers</td>\n      <td>17.0</td>\n      <td>11</td>\n      <td>0</td>\n      <td>...</td>\n      <td>10</td>\n      <td>NaN</td>\n      <td>GOOD3</td>\n      <td>18.0</td>\n      <td>1600m</td>\n      <td>4g</td>\n      <td>A G Durrant - W Pike</td>\n      <td>na</td>\n      <td>57.0</td>\n      <td>11</td>\n    </tr>\n    <tr>\n      <td>3</td>\n      <td>51116</td>\n      <td>Orange</td>\n      <td>2016-03-24</td>\n      <td>1</td>\n      <td>2</td>\n      <td>1.3</td>\n      <td>The Penguin</td>\n      <td>17.0</td>\n      <td>8</td>\n      <td>0</td>\n      <td>...</td>\n      <td>7</td>\n      <td>NaN</td>\n      <td>GOOD3</td>\n      <td>15.0</td>\n      <td>1150m</td>\n      <td>4g</td>\n      <td>Ms G Williams - Aaron Sweeney</td>\n      <td>B</td>\n      <td>53.5</td>\n      <td>8</td>\n    </tr>\n    <tr>\n      <td>4</td>\n      <td>51118</td>\n      <td>Orange</td>\n      <td>2016-03-24</td>\n      <td>1</td>\n      <td>4</td>\n      <td>3.8</td>\n      <td>Four More Millers</td>\n      <td>31.0</td>\n      <td>2</td>\n      <td>0</td>\n      <td>...</td>\n      <td>5</td>\n      <td>NaN</td>\n      <td>GOOD3</td>\n      <td>15.0</td>\n      <td>1150m</td>\n      <td>4g</td>\n      <td>S I Singleton - Crystal Conning</td>\n      <td>na</td>\n      <td>52.0</td>\n      <td>3</td>\n    </tr>\n  </tbody>\n</table>\n<p>5 rows × 21 columns</p>\n</div>"
     },
     "metadata": {},
     "execution_count": 3
    }
   ],
   "source": [
    "resultsSql = 'SELECT * from RacingZone'\n",
    "if runSql:\n",
    "    cnxn = pyodbc.connect(open('credentials.xxx').readline())\n",
    "    results = pd.read_sql(resultsSql,cnxn)\n",
    "    results.to_csv('RacingZone.csv', index=False, date_format='%Y%m%d')\n",
    "\n",
    "results = pd.read_csv('RacingZone.csv')\n",
    "results['MeetingDate'] = pd.to_datetime(results['MeetingDate'], format=\"%Y%m%d\")\n",
    "results.head()"
   ]
  },
  {
   "source": [
    "## Add Betfair data\n",
    "Supplement the original data with finish position data and BSP Place Data.  Data downloaded from APIs used to populate https://www.betfair.com.au/hub/racing-results/ "
   ],
   "cell_type": "markdown",
   "metadata": {}
  },
  {
   "cell_type": "code",
   "execution_count": 4,
   "metadata": {},
   "outputs": [],
   "source": [
    "runnersWithFinishPositionSql = \\\n",
    "'''\n",
    "select m.MeetingName, m.MeetingDate, r.RaceNumber, rnr.RunnerNumber, rnr.RunnerName, rnr.FinishPosition,\n",
    "ISNULL(TRY_CAST(json_value(r.[RawData], '$.raceLength') as float), 0) as raceLength,\n",
    "rnr.BspWin\n",
    "from [dbo].[BfMeeting] m  \n",
    "inner join [dbo].[BfRace] r on m.BfMeetingId = r.BfMeetingId\n",
    "inner join [dbo].[BfRunner] rnr on rnr.BfRaceId = r.BfRaceId\n",
    "where m.[MeetingDate] >= '1 Jan 2016' and m.RaceType = 'R' and rnr.ScratchedUtc is null and json_value(m.[RawData], '$.country') = 'AUS'\n",
    "'''\n",
    "\n",
    "if runSql:\n",
    "    cnxn = pyodbc.connect(open('credentials.xxx').readline())\n",
    "    runnersWithFinishPosition = pd.read_sql(runnersWithFinishPositionSql,cnxn)\n",
    "    runnersWithFinishPosition.to_csv('BetfairPositionData.csv', index=False, date_format='%Y-%m-%d')\n",
    "\n",
    "#read cached copy for speed and to avoid SQL ODBC pains \n",
    "runnersWithFinishPosition= pd.read_csv('BetfairPositionData.csv')\n",
    "runnersWithFinishPosition['MeetingDate'] = pd.to_datetime(runnersWithFinishPosition['MeetingDate'], format=\"%Y-%m-%d\")"
   ]
  },
  {
   "cell_type": "code",
   "execution_count": 5,
   "metadata": {},
   "outputs": [],
   "source": [
    "import re\n",
    "def RunnerNameClean(name):\n",
    "    name = name.lower()\n",
    "    name = re.sub(r'\\W+', '', name)\n",
    "    return name.strip()\n",
    "    \n",
    "\n",
    "runnersWithFinishPosition['RunnerNameClean'] = runnersWithFinishPosition['RunnerName'].apply(lambda x: RunnerNameClean(x))\n",
    "results['RunnerClean'] = results['RunnerName'].apply(lambda x: RunnerNameClean(x))"
   ]
  },
  {
   "cell_type": "code",
   "execution_count": 6,
   "metadata": {},
   "outputs": [],
   "source": [
    "def ChangetoTabTrackName(df):\n",
    "                    \n",
    "    df = df.replace('MORPHETTVILLE PARKS', 'MORPHETTVILLE')\n",
    "    df = df.replace('ROYAL RANDWICK', 'RANDWICK')\n",
    "    df = df.replace('RANDWICK KENSINGTON', 'RANDWICK')\n",
    "    df = df.replace('DEVONPORT SYNTHETIC', 'DEVONPORT')\n",
    "    df = df.replace('DEVONPORT TAPETA SYNTHETIC', 'DEVONPORT')\n",
    "    df = df.replace('KENSINGTON', 'RANDWICK')\n",
    "    df = df.replace('GEELONG SYNTHETIC', 'GEELONG')\n",
    "    df = df.replace('ROSEHILL GARDENS', 'ROSEHILL')\n",
    "    df = df.replace('CANTERBURY PARK', 'CANTERBURY')\n",
    "    df = df.replace('PAKENHAM SYNTHETIC', 'PAKENHAM')\n",
    "    df = df.replace('ESPERANCE BAY', 'ESPERANCE')\n",
    "    df = df.replace('SANDOWN HILLSIDE', 'SANDOWN')\n",
    "    df = df.replace('SANDOWN-HILLSIDE', 'SANDOWN')\n",
    "    df = df.replace('SANDOWN LAKESIDE', 'SANDOWN') \n",
    "    df = df.replace('SANDOWN-LAKESIDE', 'SANDOWN')\n",
    "    df = df.replace('LADBROKES PARK HILLSIDE', 'SANDOWN')\n",
    "    df = df.replace('LADBROKES PARK LAKESIDE', 'SANDOWN')\n",
    "    df = df.replace('PINJARRA PARK', 'PINJARRA')\n",
    "    df = df.replace('BALLARAT SYNTHETIC', 'BALLARAT') \n",
    "    df = df.replace('RACING.COM PARK SYN', 'PAKENHAM') \n",
    "    df = df.replace('RACING.COM PARK', 'PAKENHAM') \n",
    "    df = df.replace('PIONEER PARK', 'ALICE SPRINGS') \n",
    "    df = df.replace('KINGSCOTE', 'KANGAROO ISL')  \n",
    "    df = df.replace('GEELONG SYNTHETIC', 'GEELONG') \n",
    "    df = df.replace('WAGGA RIVERSIDE', 'WAGGA') \n",
    "    df = df.replace('ASCOT PARK', 'ASCOT')\n",
    "    df = df.replace('CANBERRA ACTON', 'CANBERRA')\n",
    "    df = df.replace('RANDWICK INS', 'RANDWICK')\n",
    "    df = df.replace('BELMONT PARK', 'BELMONT')\n",
    "    df = df.replace('BALLARAT SYN', 'BALLARAT')\n",
    "    df = df.replace('MT GAMBIER', 'MOUNT GAMBIER')\n",
    "    df = df.replace('SPENDTHRIFT AUSTRALIA PARK', 'WERRIBEE')\n",
    "    df = df.replace('BET365 PARK KILMORE', 'KILMORE')\n",
    "    df = df.replace('SPORTSBET-BALLARAT', 'BALLARAT')\n",
    "    df = df.replace('MURRAY BRIDGE (NOT USED)', 'MURRAY BRIDGE')\n",
    "    df = df.replace('AQUIS PARK GOLD COAST', 'GOLD COAST')\n",
    "    df = df.replace('CRANBOURNE-TRN', 'CRANBOURNE')\n",
    "    df = df.replace('FANNIE BAY', 'DARWIN')\n",
    "    df = df.replace('SUNSHINE COAST CUSHION', 'SUNSHINE COAST') \n",
    "    df = df.replace('WYNDHAM AUS', 'WYNDHAM')\n",
    "    return df"
   ]
  },
  {
   "cell_type": "code",
   "execution_count": 7,
   "metadata": {},
   "outputs": [],
   "source": [
    "#don't really need this - the join will knock out OS venues, but helps assess how much data is lost to dirty data and how much is expected because of OS and picnic venues\n",
    "overseasAndPicnicTracks = ['NEW PLYMOUTH RACEWAY', 'EINASLEIGH',\n",
    "       'BOULIA', 'GLADSTONE', 'LIGHTNING RIDGE', 'BARCALDINE',\n",
    "       'EMERALD', 'NANANGO', 'BALNARRING', 'AUGATHELLA',\n",
    "       'WAUCHOPE', 'SHA TIN', 'MATAMATA',\n",
    "       'WANGANUI', 'HAPPY VALLEY', 'CEDUNA', 'DEEPWATER', \n",
    "       'WOOLAMAI', 'KING ISLAND', 'BURRUMBEET',\n",
    "       'HANGING ROCK', 'LONGFORD', 'WALLABADAH', 'GILGANDRA',\n",
    "       'MERTON', 'ELLERSLIE', 'HASTINGS', 'TULLIBIGEAL',\n",
    "       'HEALESVILLE', 'AWAPUNI', 'RICCARTON PARK', \n",
    "       'PHAR LAP RACEWAY', 'PUKEKOHE PARK', 'BELL', 'INNISFAIL', 'DEDERANG', 'TAURANGA',\n",
    "       'TAUHERENIKAU', 'PORT HEDLAND', 'GORDONVALE', 'CHARLEVILLE',\n",
    "       'BURRANDOWAN', 'LEETON', 'HUGHENDEN', 'WARWICK', 'ARAWA PARK',\n",
    "       'WINTON NZ', 'AVONDALE', 'DARGAVILLE', 'ATHERTON', 'THANGOOL', 'JULIA CREEK',\n",
    "       'GRENFELL', 'HILLSTON', 'BALRANALD',\n",
    "       'TE AROHA', 'BLACKALL', 'MERRIWA',\n",
    "       'WINTON AUS', 'BRAIDWOOD',\n",
    "       'MILES', 'BEDGERABONG', 'BUCHAN', 'TE RAPA', 'COLAC',\n",
    "       'LOCK', 'TRENTHAM', 'GREYMOUTH', \n",
    "       'BUNDABERG', 'MT MAGNET', 'OAKLEY', 'QUILPIE', 'ESK', 'COBAR',\n",
    "       'LONGREACH', 'WINGATUI', 'TE AWAMUTU', 'TENNANT CREEK', \n",
    "       'RUAKAKA', 'MUDGEE', 'CHARTERS TOWERS', 'BOURKE', 'SWIFTS CREEK',\n",
    "       'OTAKI', 'MAREEBA', 'NYNGAN', 'CUNNAMULLA', 'HOME HILL',\n",
    "       'WONDAI', 'DENILIQUIN', 'TAUPO', 'ASHBURTON',\n",
    "       'KUNUNURRA', 'CAMOOWEAL', 'DINGO', 'BERRIGAN', 'BETOOTA',\n",
    "       'KUMARA', 'PINGRUP', 'SPRINGSURE',\n",
    "       'WANDOAN', 'TRANGIE', 'ARDLETHAN', 'ALEXANDRA',\n",
    "       'HOKITIKA', 'NEWMAN', 'JUNCTION', 'WAIPUKURAU',\n",
    "       'RICHMOND', 'INVERELL', 'WARRA',\n",
    "       'HOLBROOK', 'MAXWELTON', 'NOORAMA', 'GOONDIWINDI', \n",
    "       'BOWEN', 'WARIALDA', 'WARREN', 'COOTAMUNDRA',\n",
    "       'EIDSVOLD', 'BLUFF', 'COONABARABRAN',\n",
    "       'TUMUT', 'CONDOBOLIN', 'TEXAS', 'MOULAMEIN', 'TATURA', 'ASHWOOD PARK', \n",
    "       'STREAKY BAY', 'MONTO', 'CLONCURRY', 'MORANBAH', 'GEURIE', 'MURTOA'\n",
    "       'QUORN', 'MENDOORAN', 'MINGENEW',\n",
    "       'PENONG', 'CROOKWELL', 'HINNOMUNJIE', 'WAVERLEY', 'BIRDSVILLE',\n",
    "       'MOE', 'MT GARNET', 'GREGORY DOWNS', 'YEA', 'GORE', 'MITCHELL',\n",
    "       'ARAMAC', 'LEINSTER', 'ROEBOURNE', 'MCKINLAY', 'TAROOM', 'ADELAIDE RIVER',\n",
    "       'LEONORA', 'TAMBO', 'EWAN', 'YOUNG', 'JANDOWAE', 'CHINCHILLA',\n",
    "       'TOMINGLEY', 'KATHERINE', 'ALPHA', 'CASTERTON', 'LAURA',\n",
    "       'TUMBARUMBA', 'KOJONUP',\n",
    "       'TWIN HILLS', 'MEEKATHARRA', 'ILFRACOMBE', 'ENNGONIA',\n",
    "       'TE TEKO', 'BROKEN HILL', 'WYNDHAM AUS', 'MUTTABURRA', \n",
    "       'TOTTENHAM', 'KERANG', 'PENSHURST', \n",
    "       'DROUIN', 'MIDDLEMOUNT', 'TALMOI',\n",
    "       'OAK PARK', 'BEDOURIE', 'CLERMONT', 'BARRABA', 'SURAT',\n",
    "       'JERILDERIE', 'MUSWELLBROOK', 'LAVERTON', 'ISISFORD', 'COLLIE',\n",
    "       'CLIFTON', 'ARARAT', 'ST GEORGE', 'PORT MACQUARIE', 'TALWOOD',\n",
    "       'PRAIRIE', 'CARINDA', 'NARROMINE', 'MURRAY BRIDGE GH',\n",
    "       'NARRANDERA', 'WALGETT', 'HAWERA', 'CORFIELD', 'ROXBY DOWNS',\n",
    "       'BREWARRINA', 'INJUNE', 'GAYNDAH',\n",
    "       'MALLAWA', 'MARBLE BAR', 'DEAGON', 'STAMFORD', 'MUNGINDI',\n",
    "       'STAWELL', 'COOMA', 'STRATFORD', 'LOUTH', 'WEAN', 'GULGONG',\n",
    "       'EDENHOPE', 'WAIROA', 'MURTOA'\n",
    "       'GREAT WESTERN', 'REEFTON', 'HAMILTON', 'WOODVILLE', 'CARRATHOOL', \n",
    "       'BINGARA', 'OAKBANK', 'ALICE SPRINGS', 'FLINTON', 'TOWER HILL',\n",
    "       'MORVEN', 'COLLARENEBRI', 'BINNAWAY', 'BOOROWA', \n",
    "       'QUAMBONE', 'OAMARU', 'CALLIOPE', 'COOKTOWN',\n",
    "       'TABULAM', 'COLERAINE', 'GULARGAMBONE', 'COME BY CHANCE',\n",
    "       'LOCKHART', 'POONCARIE', 'TARA', 'BUNDARRA', 'JUNDAH', 'JAMESTOWN',\n",
    "       'MUNGERY', 'MOORA', 'BOMBALA',  'HARDEN',\n",
    "       'WENTWORTH', 'KUMBIA', 'MANSFIELD', 'MT PERRY',\n",
    "       'BONG BONG', 'HAY', 'PENTLAND', 'ADAMINABY',\n",
    "       'GUNNEDAH', 'PENOLA', 'WYCHEPROOF', 'LANDOR',\n",
    "       'MOTUKARARA', 'NHILL', 'GRIFFITH', 'CLARE', 'TOCUMWAL'\n",
    "       'CAMPERDOWN', 'YALGOO', 'DONGARA', 'WATERLEA', 'THAMES']"
   ]
  },
  {
   "cell_type": "code",
   "execution_count": 8,
   "metadata": {},
   "outputs": [],
   "source": [
    "runnersWithFinishPosition['MeetingName_Upper'] = runnersWithFinishPosition['MeetingName'].apply(lambda x: x.upper())\n",
    "runnersWithFinishPosition['MeetingName_Upper'] = runnersWithFinishPosition['MeetingName_Upper'].apply(lambda x: ChangetoTabTrackName(x))\n",
    "results['MeetingName_Upper_Res'] = results['MeetingName'].apply(lambda x: x.upper())\n",
    "results['MeetingName_Upper_Res'] = results['MeetingName_Upper_Res'].apply(lambda x: ChangetoTabTrackName(x))\n",
    "\n",
    "results = results[~results['MeetingName_Upper_Res'].isin(overseasAndPicnicTracks)]\n",
    "\n",
    "#merge onto original DF\n",
    "merged = pd.merge(results, runnersWithFinishPosition,  how='inner', left_on=['MeetingDate', 'MeetingName_Upper_Res', 'RaceNo', 'RunnerClean'], right_on = ['MeetingDate', 'MeetingName_Upper', 'RaceNumber', 'RunnerNameClean'])\n",
    "\n",
    "#merged[merged.MeetingName_Upper.isnull()][['MeetingDate', 'MeetingName_Upper_Res', 'RaceNo', 'RunnerClean']]\n",
    "#merged[merged.MeetingName_Upper.isnull()]['MeetingName_Upper_Res'].unique()"
   ]
  },
  {
   "cell_type": "code",
   "execution_count": 9,
   "metadata": {},
   "outputs": [
    {
     "output_type": "execute_result",
     "data": {
      "text/plain": [
       "715836"
      ]
     },
     "metadata": {},
     "execution_count": 9
    }
   ],
   "source": [
    "len(merged.index)"
   ]
  },
  {
   "cell_type": "code",
   "execution_count": 10,
   "metadata": {},
   "outputs": [],
   "source": [
    "#runnersWithFinishPosition[(runnersWithFinishPosition.MeetingDate == dt.datetime(2016,3,26))&(runnersWithFinishPosition.MeetingName_Upper == 'ROSEHILL')&#(runnersWithFinishPosition.RaceNumber == 5)]"
   ]
  },
  {
   "cell_type": "code",
   "execution_count": 11,
   "metadata": {},
   "outputs": [
    {
     "output_type": "execute_result",
     "data": {
      "text/plain": [
       "Index(['MeetingDate', 'RaceNo', 'FinishPos', 'Margin', 'RunnerName_x', 'SP',\n",
       "       'Settled', 'At1200', 'At800', 'At400', 'Comments', 'TrackCond',\n",
       "       'PrizeMoney', 'Distance', 'AgeSex', 'TrainerJockey', 'Gear', 'Weight',\n",
       "       'Barrier', 'MeetingName_Upper_Res', 'RunnerNumber', 'FinishPosition',\n",
       "       'raceLength', 'BspWin'],\n",
       "      dtype='object')"
      ]
     },
     "metadata": {},
     "execution_count": 11
    }
   ],
   "source": [
    "merged.drop(['RacingZoneId', 'MeetingName_x', 'RunnerClean', 'MeetingName_y', 'RaceNumber', 'RunnerNameClean','MeetingName_Upper', 'RunnerName_y'], axis=1, inplace=True)\n",
    "merged.columns"
   ]
  },
  {
   "cell_type": "code",
   "execution_count": 12,
   "metadata": {},
   "outputs": [
    {
     "output_type": "execute_result",
     "data": {
      "text/plain": [
       "  MeetingDate  RaceNo  FinishPos  Margin       RunnerName_x    SP  Settled  \\\n",
       "0  2016-03-24       9          7     2.3            Skellig  46.0       10   \n",
       "1  2016-03-24       9          8     2.5        Starry Dane  31.0        6   \n",
       "2  2016-03-24       9         11     4.5            Beckers  17.0       11   \n",
       "3  2016-03-24       1          2     1.3        The Penguin  17.0        8   \n",
       "4  2016-03-24       1          4     3.8  Four More Millers  31.0        2   \n",
       "\n",
       "   At1200  At800  At400  ... AgeSex                    TrainerJockey  Gear  \\\n",
       "0       0      9      9  ...     4g   D S Pearce - C Johnston-Porter     B   \n",
       "1       0      6      6  ...     4g   A G Durrant - Joseph Azzopardi    na   \n",
       "2       0     10     10  ...     4g             A G Durrant - W Pike    na   \n",
       "3       0      8      7  ...     4g    Ms G Williams - Aaron Sweeney     B   \n",
       "4       0      2      5  ...     4g  S I Singleton - Crystal Conning    na   \n",
       "\n",
       "  Weight Barrier MeetingName_Upper_Res RunnerNumber  FinishPosition  \\\n",
       "0   58.5      10              PINJARRA            1               7   \n",
       "1   56.0       1              PINJARRA            8               8   \n",
       "2   57.0      11              PINJARRA            4              11   \n",
       "3   53.5       8                ORANGE            6               2   \n",
       "4   52.0       3                ORANGE            4               4   \n",
       "\n",
       "   raceLength BspWin  \n",
       "0      1600.0   4.16  \n",
       "1      1600.0  34.00  \n",
       "2      1600.0  21.00  \n",
       "3      1150.0  40.00  \n",
       "4      1150.0  60.88  \n",
       "\n",
       "[5 rows x 24 columns]"
      ],
      "text/html": "<div>\n<style scoped>\n    .dataframe tbody tr th:only-of-type {\n        vertical-align: middle;\n    }\n\n    .dataframe tbody tr th {\n        vertical-align: top;\n    }\n\n    .dataframe thead th {\n        text-align: right;\n    }\n</style>\n<table border=\"1\" class=\"dataframe\">\n  <thead>\n    <tr style=\"text-align: right;\">\n      <th></th>\n      <th>MeetingDate</th>\n      <th>RaceNo</th>\n      <th>FinishPos</th>\n      <th>Margin</th>\n      <th>RunnerName_x</th>\n      <th>SP</th>\n      <th>Settled</th>\n      <th>At1200</th>\n      <th>At800</th>\n      <th>At400</th>\n      <th>...</th>\n      <th>AgeSex</th>\n      <th>TrainerJockey</th>\n      <th>Gear</th>\n      <th>Weight</th>\n      <th>Barrier</th>\n      <th>MeetingName_Upper_Res</th>\n      <th>RunnerNumber</th>\n      <th>FinishPosition</th>\n      <th>raceLength</th>\n      <th>BspWin</th>\n    </tr>\n  </thead>\n  <tbody>\n    <tr>\n      <td>0</td>\n      <td>2016-03-24</td>\n      <td>9</td>\n      <td>7</td>\n      <td>2.3</td>\n      <td>Skellig</td>\n      <td>46.0</td>\n      <td>10</td>\n      <td>0</td>\n      <td>9</td>\n      <td>9</td>\n      <td>...</td>\n      <td>4g</td>\n      <td>D S Pearce - C Johnston-Porter</td>\n      <td>B</td>\n      <td>58.5</td>\n      <td>10</td>\n      <td>PINJARRA</td>\n      <td>1</td>\n      <td>7</td>\n      <td>1600.0</td>\n      <td>4.16</td>\n    </tr>\n    <tr>\n      <td>1</td>\n      <td>2016-03-24</td>\n      <td>9</td>\n      <td>8</td>\n      <td>2.5</td>\n      <td>Starry Dane</td>\n      <td>31.0</td>\n      <td>6</td>\n      <td>0</td>\n      <td>6</td>\n      <td>6</td>\n      <td>...</td>\n      <td>4g</td>\n      <td>A G Durrant - Joseph Azzopardi</td>\n      <td>na</td>\n      <td>56.0</td>\n      <td>1</td>\n      <td>PINJARRA</td>\n      <td>8</td>\n      <td>8</td>\n      <td>1600.0</td>\n      <td>34.00</td>\n    </tr>\n    <tr>\n      <td>2</td>\n      <td>2016-03-24</td>\n      <td>9</td>\n      <td>11</td>\n      <td>4.5</td>\n      <td>Beckers</td>\n      <td>17.0</td>\n      <td>11</td>\n      <td>0</td>\n      <td>10</td>\n      <td>10</td>\n      <td>...</td>\n      <td>4g</td>\n      <td>A G Durrant - W Pike</td>\n      <td>na</td>\n      <td>57.0</td>\n      <td>11</td>\n      <td>PINJARRA</td>\n      <td>4</td>\n      <td>11</td>\n      <td>1600.0</td>\n      <td>21.00</td>\n    </tr>\n    <tr>\n      <td>3</td>\n      <td>2016-03-24</td>\n      <td>1</td>\n      <td>2</td>\n      <td>1.3</td>\n      <td>The Penguin</td>\n      <td>17.0</td>\n      <td>8</td>\n      <td>0</td>\n      <td>8</td>\n      <td>7</td>\n      <td>...</td>\n      <td>4g</td>\n      <td>Ms G Williams - Aaron Sweeney</td>\n      <td>B</td>\n      <td>53.5</td>\n      <td>8</td>\n      <td>ORANGE</td>\n      <td>6</td>\n      <td>2</td>\n      <td>1150.0</td>\n      <td>40.00</td>\n    </tr>\n    <tr>\n      <td>4</td>\n      <td>2016-03-24</td>\n      <td>1</td>\n      <td>4</td>\n      <td>3.8</td>\n      <td>Four More Millers</td>\n      <td>31.0</td>\n      <td>2</td>\n      <td>0</td>\n      <td>2</td>\n      <td>5</td>\n      <td>...</td>\n      <td>4g</td>\n      <td>S I Singleton - Crystal Conning</td>\n      <td>na</td>\n      <td>52.0</td>\n      <td>3</td>\n      <td>ORANGE</td>\n      <td>4</td>\n      <td>4</td>\n      <td>1150.0</td>\n      <td>60.88</td>\n    </tr>\n  </tbody>\n</table>\n<p>5 rows × 24 columns</p>\n</div>"
     },
     "metadata": {},
     "execution_count": 12
    }
   ],
   "source": [
    "merged.head()"
   ]
  },
  {
   "source": [
    "## Quick Analysis of what a runner with 10% probability looks like"
   ],
   "cell_type": "markdown",
   "metadata": {}
  },
  {
   "cell_type": "code",
   "execution_count": 13,
   "metadata": {},
   "outputs": [
    {
     "output_type": "execute_result",
     "data": {
      "text/plain": [
       "0.10046339626087156"
      ]
     },
     "metadata": {},
     "execution_count": 13
    }
   ],
   "source": [
    "winProd10pct = merged[(merged.BspWin>=9.0) & (merged.BspWin<11)]\n",
    "len(winProd10pct[winProd10pct.Margin == 0].index) / len(winProd10pct.index)"
   ]
  },
  {
   "cell_type": "code",
   "execution_count": 14,
   "metadata": {},
   "outputs": [
    {
     "output_type": "execute_result",
     "data": {
      "text/plain": [
       "4.030442623325037"
      ]
     },
     "metadata": {},
     "execution_count": 14
    }
   ],
   "source": [
    "winProd10pct['Margin'].mean()"
   ]
  },
  {
   "cell_type": "code",
   "execution_count": 15,
   "metadata": {},
   "outputs": [
    {
     "output_type": "execute_result",
     "data": {
      "text/plain": [
       "<matplotlib.axes._subplots.AxesSubplot at 0x15649d95b48>"
      ]
     },
     "metadata": {},
     "execution_count": 15
    },
    {
     "output_type": "display_data",
     "data": {
      "text/plain": "<Figure size 432x288 with 1 Axes>",
      "image/svg+xml": "<?xml version=\"1.0\" encoding=\"utf-8\" standalone=\"no\"?>\r\n<!DOCTYPE svg PUBLIC \"-//W3C//DTD SVG 1.1//EN\"\r\n  \"http://www.w3.org/Graphics/SVG/1.1/DTD/svg11.dtd\">\r\n<!-- Created with matplotlib (https://matplotlib.org/) -->\r\n<svg height=\"248.518125pt\" version=\"1.1\" viewBox=\"0 0 395.328125 248.518125\" width=\"395.328125pt\" xmlns=\"http://www.w3.org/2000/svg\" xmlns:xlink=\"http://www.w3.org/1999/xlink\">\r\n <defs>\r\n  <style type=\"text/css\">\r\n*{stroke-linecap:butt;stroke-linejoin:round;}\r\n  </style>\r\n </defs>\r\n <g id=\"figure_1\">\r\n  <g id=\"patch_1\">\r\n   <path d=\"M 0 248.518125 \r\nL 395.328125 248.518125 \r\nL 395.328125 0 \r\nL 0 0 \r\nz\r\n\" style=\"fill:none;\"/>\r\n  </g>\r\n  <g id=\"axes_1\">\r\n   <g id=\"patch_2\">\r\n    <path d=\"M 53.328125 224.64 \r\nL 388.128125 224.64 \r\nL 388.128125 7.2 \r\nL 53.328125 7.2 \r\nz\r\n\" style=\"fill:#ffffff;\"/>\r\n   </g>\r\n   <g id=\"patch_3\">\r\n    <path clip-path=\"url(#p3134db3f3c)\" d=\"M 68.546307 224.64 \r\nL 69.560852 224.64 \r\nL 69.560852 17.554286 \r\nL 68.546307 17.554286 \r\nz\r\n\" style=\"fill:#1f77b4;\"/>\r\n   </g>\r\n   <g id=\"patch_4\">\r\n    <path clip-path=\"url(#p3134db3f3c)\" d=\"M 69.560852 224.64 \r\nL 70.575398 224.64 \r\nL 70.575398 195.419316 \r\nL 69.560852 195.419316 \r\nz\r\n\" style=\"fill:#1f77b4;\"/>\r\n   </g>\r\n   <g id=\"patch_5\">\r\n    <path clip-path=\"url(#p3134db3f3c)\" d=\"M 70.575398 224.64 \r\nL 71.589943 224.64 \r\nL 71.589943 183.70281 \r\nL 70.575398 183.70281 \r\nz\r\n\" style=\"fill:#1f77b4;\"/>\r\n   </g>\r\n   <g id=\"patch_6\">\r\n    <path clip-path=\"url(#p3134db3f3c)\" d=\"M 71.589943 224.64 \r\nL 72.604489 224.64 \r\nL 72.604489 204.453731 \r\nL 71.589943 204.453731 \r\nz\r\n\" style=\"fill:#1f77b4;\"/>\r\n   </g>\r\n   <g id=\"patch_7\">\r\n    <path clip-path=\"url(#p3134db3f3c)\" d=\"M 72.604489 224.64 \r\nL 73.619034 224.64 \r\nL 73.619034 201.865747 \r\nL 72.604489 201.865747 \r\nz\r\n\" style=\"fill:#1f77b4;\"/>\r\n   </g>\r\n   <g id=\"patch_8\">\r\n    <path clip-path=\"url(#p3134db3f3c)\" d=\"M 73.619034 224.64 \r\nL 75.30318 224.64 \r\nL 75.30318 180.503122 \r\nL 73.619034 180.503122 \r\nz\r\n\" style=\"fill:#1f77b4;\"/>\r\n   </g>\r\n   <g id=\"patch_9\">\r\n    <path clip-path=\"url(#p3134db3f3c)\" d=\"M 75.30318 224.64 \r\nL 78.691761 224.64 \r\nL 78.691761 165.586928 \r\nL 75.30318 165.586928 \r\nz\r\n\" style=\"fill:#1f77b4;\"/>\r\n   </g>\r\n   <g id=\"patch_10\">\r\n    <path clip-path=\"url(#p3134db3f3c)\" d=\"M 78.691761 224.64 \r\nL 81.228125 224.64 \r\nL 81.228125 153.446933 \r\nL 78.691761 153.446933 \r\nz\r\n\" style=\"fill:#1f77b4;\"/>\r\n   </g>\r\n   <g id=\"patch_11\">\r\n    <path clip-path=\"url(#p3134db3f3c)\" d=\"M 81.228125 224.64 \r\nL 83.764489 224.64 \r\nL 83.764489 164.551734 \r\nL 81.228125 164.551734 \r\nz\r\n\" style=\"fill:#1f77b4;\"/>\r\n   </g>\r\n   <g id=\"patch_12\">\r\n    <path clip-path=\"url(#p3134db3f3c)\" d=\"M 83.764489 224.64 \r\nL 86.300852 224.64 \r\nL 86.300852 139.707095 \r\nL 83.764489 139.707095 \r\nz\r\n\" style=\"fill:#1f77b4;\"/>\r\n   </g>\r\n   <g id=\"patch_13\">\r\n    <path clip-path=\"url(#p3134db3f3c)\" d=\"M 86.300852 224.64 \r\nL 88.837216 224.64 \r\nL 88.837216 166.433904 \r\nL 86.300852 166.433904 \r\nz\r\n\" style=\"fill:#1f77b4;\"/>\r\n   </g>\r\n   <g id=\"patch_14\">\r\n    <path clip-path=\"url(#p3134db3f3c)\" d=\"M 88.837216 224.64 \r\nL 91.37358 224.64 \r\nL 91.37358 140.554071 \r\nL 88.837216 140.554071 \r\nz\r\n\" style=\"fill:#1f77b4;\"/>\r\n   </g>\r\n   <g id=\"patch_15\">\r\n    <path clip-path=\"url(#p3134db3f3c)\" d=\"M 91.37358 224.64 \r\nL 93.909943 224.64 \r\nL 93.909943 166.198633 \r\nL 91.37358 166.198633 \r\nz\r\n\" style=\"fill:#1f77b4;\"/>\r\n   </g>\r\n   <g id=\"patch_16\">\r\n    <path clip-path=\"url(#p3134db3f3c)\" d=\"M 93.909943 224.64 \r\nL 96.446307 224.64 \r\nL 96.446307 140.97756 \r\nL 93.909943 140.97756 \r\nz\r\n\" style=\"fill:#1f77b4;\"/>\r\n   </g>\r\n   <g id=\"patch_17\">\r\n    <path clip-path=\"url(#p3134db3f3c)\" d=\"M 96.446307 224.64 \r\nL 98.98267 224.64 \r\nL 98.98267 168.363128 \r\nL 96.446307 168.363128 \r\nz\r\n\" style=\"fill:#1f77b4;\"/>\r\n   </g>\r\n   <g id=\"patch_18\">\r\n    <path clip-path=\"url(#p3134db3f3c)\" d=\"M 98.98267 224.64 \r\nL 101.519034 224.64 \r\nL 101.519034 142.153916 \r\nL 98.98267 142.153916 \r\nz\r\n\" style=\"fill:#1f77b4;\"/>\r\n   </g>\r\n   <g id=\"patch_19\">\r\n    <path clip-path=\"url(#p3134db3f3c)\" d=\"M 101.519034 224.64 \r\nL 104.055398 224.64 \r\nL 104.055398 169.633592 \r\nL 101.519034 169.633592 \r\nz\r\n\" style=\"fill:#1f77b4;\"/>\r\n   </g>\r\n   <g id=\"patch_20\">\r\n    <path clip-path=\"url(#p3134db3f3c)\" d=\"M 104.055398 224.64 \r\nL 106.591761 224.64 \r\nL 106.591761 148.365075 \r\nL 104.055398 148.365075 \r\nz\r\n\" style=\"fill:#1f77b4;\"/>\r\n   </g>\r\n   <g id=\"patch_21\">\r\n    <path clip-path=\"url(#p3134db3f3c)\" d=\"M 106.591761 224.64 \r\nL 109.128125 224.64 \r\nL 109.128125 174.950722 \r\nL 106.591761 174.950722 \r\nz\r\n\" style=\"fill:#1f77b4;\"/>\r\n   </g>\r\n   <g id=\"patch_22\">\r\n    <path clip-path=\"url(#p3134db3f3c)\" d=\"M 109.128125 224.64 \r\nL 111.664489 224.64 \r\nL 111.664489 156.787785 \r\nL 109.128125 156.787785 \r\nz\r\n\" style=\"fill:#1f77b4;\"/>\r\n   </g>\r\n   <g id=\"patch_23\">\r\n    <path clip-path=\"url(#p3134db3f3c)\" d=\"M 111.664489 224.64 \r\nL 114.200852 224.64 \r\nL 114.200852 180.691339 \r\nL 111.664489 180.691339 \r\nz\r\n\" style=\"fill:#1f77b4;\"/>\r\n   </g>\r\n   <g id=\"patch_24\">\r\n    <path clip-path=\"url(#p3134db3f3c)\" d=\"M 114.200852 224.64 \r\nL 116.737216 224.64 \r\nL 116.737216 161.681426 \r\nL 114.200852 161.681426 \r\nz\r\n\" style=\"fill:#1f77b4;\"/>\r\n   </g>\r\n   <g id=\"patch_25\">\r\n    <path clip-path=\"url(#p3134db3f3c)\" d=\"M 116.737216 224.64 \r\nL 119.27358 224.64 \r\nL 119.27358 188.36118 \r\nL 116.737216 188.36118 \r\nz\r\n\" style=\"fill:#1f77b4;\"/>\r\n   </g>\r\n   <g id=\"patch_26\">\r\n    <path clip-path=\"url(#p3134db3f3c)\" d=\"M 119.27358 224.64 \r\nL 122.65506 224.64 \r\nL 122.65506 152.41174 \r\nL 119.27358 152.41174 \r\nz\r\n\" style=\"fill:#1f77b4;\"/>\r\n   </g>\r\n   <g id=\"patch_27\">\r\n    <path clip-path=\"url(#p3134db3f3c)\" d=\"M 122.65506 224.64 \r\nL 126.03654 224.64 \r\nL 126.03654 178.291573 \r\nL 122.65506 178.291573 \r\nz\r\n\" style=\"fill:#1f77b4;\"/>\r\n   </g>\r\n   <g id=\"patch_28\">\r\n    <path clip-path=\"url(#p3134db3f3c)\" d=\"M 126.03654 224.64 \r\nL 129.419034 224.64 \r\nL 129.419034 182.667617 \r\nL 126.03654 182.667617 \r\nz\r\n\" style=\"fill:#1f77b4;\"/>\r\n   </g>\r\n   <g id=\"patch_29\">\r\n    <path clip-path=\"url(#p3134db3f3c)\" d=\"M 129.419034 224.64 \r\nL 132.800514 224.64 \r\nL 132.800514 172.739172 \r\nL 129.419034 172.739172 \r\nz\r\n\" style=\"fill:#1f77b4;\"/>\r\n   </g>\r\n   <g id=\"patch_30\">\r\n    <path clip-path=\"url(#p3134db3f3c)\" d=\"M 132.800514 224.64 \r\nL 136.182603 224.64 \r\nL 136.182603 190.760947 \r\nL 132.800514 190.760947 \r\nz\r\n\" style=\"fill:#1f77b4;\"/>\r\n   </g>\r\n   <g id=\"patch_31\">\r\n    <path clip-path=\"url(#p3134db3f3c)\" d=\"M 136.182603 224.64 \r\nL 139.564489 224.64 \r\nL 139.564489 192.266682 \r\nL 136.182603 192.266682 \r\nz\r\n\" style=\"fill:#1f77b4;\"/>\r\n   </g>\r\n   <g id=\"patch_32\">\r\n    <path clip-path=\"url(#p3134db3f3c)\" d=\"M 139.564489 224.64 \r\nL 144.637216 224.64 \r\nL 144.637216 175.891806 \r\nL 139.564489 175.891806 \r\nz\r\n\" style=\"fill:#1f77b4;\"/>\r\n   </g>\r\n   <g id=\"patch_33\">\r\n    <path clip-path=\"url(#p3134db3f3c)\" d=\"M 144.637216 224.64 \r\nL 149.709943 224.64 \r\nL 149.709943 185.773197 \r\nL 144.637216 185.773197 \r\nz\r\n\" style=\"fill:#1f77b4;\"/>\r\n   </g>\r\n   <g id=\"patch_34\">\r\n    <path clip-path=\"url(#p3134db3f3c)\" d=\"M 149.709943 224.64 \r\nL 154.78267 224.64 \r\nL 154.78267 190.902109 \r\nL 149.709943 190.902109 \r\nz\r\n\" style=\"fill:#1f77b4;\"/>\r\n   </g>\r\n   <g id=\"patch_35\">\r\n    <path clip-path=\"url(#p3134db3f3c)\" d=\"M 154.78267 224.64 \r\nL 159.855398 224.64 \r\nL 159.855398 195.560479 \r\nL 154.78267 195.560479 \r\nz\r\n\" style=\"fill:#1f77b4;\"/>\r\n   </g>\r\n   <g id=\"patch_36\">\r\n    <path clip-path=\"url(#p3134db3f3c)\" d=\"M 159.855398 224.64 \r\nL 164.928125 224.64 \r\nL 164.928125 201.206988 \r\nL 159.855398 201.206988 \r\nz\r\n\" style=\"fill:#1f77b4;\"/>\r\n   </g>\r\n   <g id=\"patch_37\">\r\n    <path clip-path=\"url(#p3134db3f3c)\" d=\"M 164.928125 224.64 \r\nL 170.000852 224.64 \r\nL 170.000852 205.818304 \r\nL 164.928125 205.818304 \r\nz\r\n\" style=\"fill:#1f77b4;\"/>\r\n   </g>\r\n   <g id=\"patch_38\">\r\n    <path clip-path=\"url(#p3134db3f3c)\" d=\"M 170.000852 224.64 \r\nL 180.146307 224.64 \r\nL 180.146307 192.549008 \r\nL 170.000852 192.549008 \r\nz\r\n\" style=\"fill:#1f77b4;\"/>\r\n   </g>\r\n   <g id=\"patch_39\">\r\n    <path clip-path=\"url(#p3134db3f3c)\" d=\"M 180.146307 224.64 \r\nL 190.291761 224.64 \r\nL 190.291761 203.183266 \r\nL 180.146307 203.183266 \r\nz\r\n\" style=\"fill:#1f77b4;\"/>\r\n   </g>\r\n   <g id=\"patch_40\">\r\n    <path clip-path=\"url(#p3134db3f3c)\" d=\"M 190.291761 224.64 \r\nL 200.437216 224.64 \r\nL 200.437216 208.359233 \r\nL 190.291761 208.359233 \r\nz\r\n\" style=\"fill:#1f77b4;\"/>\r\n   </g>\r\n   <g id=\"patch_41\">\r\n    <path clip-path=\"url(#p3134db3f3c)\" d=\"M 200.437216 224.64 \r\nL 210.58267 224.64 \r\nL 210.58267 211.794192 \r\nL 200.437216 211.794192 \r\nz\r\n\" style=\"fill:#1f77b4;\"/>\r\n   </g>\r\n   <g id=\"patch_42\">\r\n    <path clip-path=\"url(#p3134db3f3c)\" d=\"M 210.58267 224.64 \r\nL 220.728125 224.64 \r\nL 220.728125 214.42923 \r\nL 210.58267 214.42923 \r\nz\r\n\" style=\"fill:#1f77b4;\"/>\r\n   </g>\r\n   <g id=\"patch_43\">\r\n    <path clip-path=\"url(#p3134db3f3c)\" d=\"M 220.728125 224.64 \r\nL 230.87358 224.64 \r\nL 230.87358 217.675972 \r\nL 220.728125 217.675972 \r\nz\r\n\" style=\"fill:#1f77b4;\"/>\r\n   </g>\r\n   <g id=\"patch_44\">\r\n    <path clip-path=\"url(#p3134db3f3c)\" d=\"M 230.87358 224.64 \r\nL 241.019034 224.64 \r\nL 241.019034 219.0876 \r\nL 230.87358 219.0876 \r\nz\r\n\" style=\"fill:#1f77b4;\"/>\r\n   </g>\r\n   <g id=\"patch_45\">\r\n    <path clip-path=\"url(#p3134db3f3c)\" d=\"M 241.019034 224.64 \r\nL 251.164489 224.64 \r\nL 251.164489 219.369925 \r\nL 241.019034 219.369925 \r\nz\r\n\" style=\"fill:#1f77b4;\"/>\r\n   </g>\r\n   <g id=\"patch_46\">\r\n    <path clip-path=\"url(#p3134db3f3c)\" d=\"M 251.164489 224.64 \r\nL 261.309943 224.64 \r\nL 261.309943 221.299149 \r\nL 251.164489 221.299149 \r\nz\r\n\" style=\"fill:#1f77b4;\"/>\r\n   </g>\r\n   <g id=\"patch_47\">\r\n    <path clip-path=\"url(#p3134db3f3c)\" d=\"M 261.309943 224.64 \r\nL 271.455398 224.64 \r\nL 271.455398 222.099071 \r\nL 261.309943 222.099071 \r\nz\r\n\" style=\"fill:#1f77b4;\"/>\r\n   </g>\r\n   <g id=\"patch_48\">\r\n    <path clip-path=\"url(#p3134db3f3c)\" d=\"M 271.455398 224.64 \r\nL 322.18267 224.64 \r\nL 322.18267 215.605586 \r\nL 271.455398 215.605586 \r\nz\r\n\" style=\"fill:#1f77b4;\"/>\r\n   </g>\r\n   <g id=\"patch_49\">\r\n    <path clip-path=\"url(#p3134db3f3c)\" d=\"M 322.18267 224.64 \r\nL 372.909943 224.64 \r\nL 372.909943 220.499227 \r\nL 322.18267 220.499227 \r\nz\r\n\" style=\"fill:#1f77b4;\"/>\r\n   </g>\r\n   <g id=\"matplotlib.axis_1\">\r\n    <g id=\"xtick_1\">\r\n     <g id=\"line2d_1\">\r\n      <defs>\r\n       <path d=\"M 0 0 \r\nL 0 3.5 \r\n\" id=\"m50e6f54aa8\" style=\"stroke:#000000;stroke-width:0.8;\"/>\r\n      </defs>\r\n      <g>\r\n       <use style=\"stroke:#000000;stroke-width:0.8;\" x=\"68.546307\" xlink:href=\"#m50e6f54aa8\" y=\"224.64\"/>\r\n      </g>\r\n     </g>\r\n     <g id=\"text_1\">\r\n      <!-- 0 -->\r\n      <defs>\r\n       <path d=\"M 31.78125 66.40625 \r\nQ 24.171875 66.40625 20.328125 58.90625 \r\nQ 16.5 51.421875 16.5 36.375 \r\nQ 16.5 21.390625 20.328125 13.890625 \r\nQ 24.171875 6.390625 31.78125 6.390625 \r\nQ 39.453125 6.390625 43.28125 13.890625 \r\nQ 47.125 21.390625 47.125 36.375 \r\nQ 47.125 51.421875 43.28125 58.90625 \r\nQ 39.453125 66.40625 31.78125 66.40625 \r\nz\r\nM 31.78125 74.21875 \r\nQ 44.046875 74.21875 50.515625 64.515625 \r\nQ 56.984375 54.828125 56.984375 36.375 \r\nQ 56.984375 17.96875 50.515625 8.265625 \r\nQ 44.046875 -1.421875 31.78125 -1.421875 \r\nQ 19.53125 -1.421875 13.0625 8.265625 \r\nQ 6.59375 17.96875 6.59375 36.375 \r\nQ 6.59375 54.828125 13.0625 64.515625 \r\nQ 19.53125 74.21875 31.78125 74.21875 \r\nz\r\n\" id=\"DejaVuSans-48\"/>\r\n      </defs>\r\n      <g transform=\"translate(65.365057 239.238437)scale(0.1 -0.1)\">\r\n       <use xlink:href=\"#DejaVuSans-48\"/>\r\n      </g>\r\n     </g>\r\n    </g>\r\n    <g id=\"xtick_2\">\r\n     <g id=\"line2d_2\">\r\n      <g>\r\n       <use style=\"stroke:#000000;stroke-width:0.8;\" x=\"119.27358\" xlink:href=\"#m50e6f54aa8\" y=\"224.64\"/>\r\n      </g>\r\n     </g>\r\n     <g id=\"text_2\">\r\n      <!-- 5 -->\r\n      <defs>\r\n       <path d=\"M 10.796875 72.90625 \r\nL 49.515625 72.90625 \r\nL 49.515625 64.59375 \r\nL 19.828125 64.59375 \r\nL 19.828125 46.734375 \r\nQ 21.96875 47.46875 24.109375 47.828125 \r\nQ 26.265625 48.1875 28.421875 48.1875 \r\nQ 40.625 48.1875 47.75 41.5 \r\nQ 54.890625 34.8125 54.890625 23.390625 \r\nQ 54.890625 11.625 47.5625 5.09375 \r\nQ 40.234375 -1.421875 26.90625 -1.421875 \r\nQ 22.3125 -1.421875 17.546875 -0.640625 \r\nQ 12.796875 0.140625 7.71875 1.703125 \r\nL 7.71875 11.625 \r\nQ 12.109375 9.234375 16.796875 8.0625 \r\nQ 21.484375 6.890625 26.703125 6.890625 \r\nQ 35.15625 6.890625 40.078125 11.328125 \r\nQ 45.015625 15.765625 45.015625 23.390625 \r\nQ 45.015625 31 40.078125 35.4375 \r\nQ 35.15625 39.890625 26.703125 39.890625 \r\nQ 22.75 39.890625 18.8125 39.015625 \r\nQ 14.890625 38.140625 10.796875 36.28125 \r\nz\r\n\" id=\"DejaVuSans-53\"/>\r\n      </defs>\r\n      <g transform=\"translate(116.09233 239.238437)scale(0.1 -0.1)\">\r\n       <use xlink:href=\"#DejaVuSans-53\"/>\r\n      </g>\r\n     </g>\r\n    </g>\r\n    <g id=\"xtick_3\">\r\n     <g id=\"line2d_3\">\r\n      <g>\r\n       <use style=\"stroke:#000000;stroke-width:0.8;\" x=\"170.000852\" xlink:href=\"#m50e6f54aa8\" y=\"224.64\"/>\r\n      </g>\r\n     </g>\r\n     <g id=\"text_3\">\r\n      <!-- 10 -->\r\n      <defs>\r\n       <path d=\"M 12.40625 8.296875 \r\nL 28.515625 8.296875 \r\nL 28.515625 63.921875 \r\nL 10.984375 60.40625 \r\nL 10.984375 69.390625 \r\nL 28.421875 72.90625 \r\nL 38.28125 72.90625 \r\nL 38.28125 8.296875 \r\nL 54.390625 8.296875 \r\nL 54.390625 0 \r\nL 12.40625 0 \r\nz\r\n\" id=\"DejaVuSans-49\"/>\r\n      </defs>\r\n      <g transform=\"translate(163.638352 239.238437)scale(0.1 -0.1)\">\r\n       <use xlink:href=\"#DejaVuSans-49\"/>\r\n       <use x=\"63.623047\" xlink:href=\"#DejaVuSans-48\"/>\r\n      </g>\r\n     </g>\r\n    </g>\r\n    <g id=\"xtick_4\">\r\n     <g id=\"line2d_4\">\r\n      <g>\r\n       <use style=\"stroke:#000000;stroke-width:0.8;\" x=\"220.728125\" xlink:href=\"#m50e6f54aa8\" y=\"224.64\"/>\r\n      </g>\r\n     </g>\r\n     <g id=\"text_4\">\r\n      <!-- 15 -->\r\n      <g transform=\"translate(214.365625 239.238437)scale(0.1 -0.1)\">\r\n       <use xlink:href=\"#DejaVuSans-49\"/>\r\n       <use x=\"63.623047\" xlink:href=\"#DejaVuSans-53\"/>\r\n      </g>\r\n     </g>\r\n    </g>\r\n    <g id=\"xtick_5\">\r\n     <g id=\"line2d_5\">\r\n      <g>\r\n       <use style=\"stroke:#000000;stroke-width:0.8;\" x=\"271.455398\" xlink:href=\"#m50e6f54aa8\" y=\"224.64\"/>\r\n      </g>\r\n     </g>\r\n     <g id=\"text_5\">\r\n      <!-- 20 -->\r\n      <defs>\r\n       <path d=\"M 19.1875 8.296875 \r\nL 53.609375 8.296875 \r\nL 53.609375 0 \r\nL 7.328125 0 \r\nL 7.328125 8.296875 \r\nQ 12.9375 14.109375 22.625 23.890625 \r\nQ 32.328125 33.6875 34.8125 36.53125 \r\nQ 39.546875 41.84375 41.421875 45.53125 \r\nQ 43.3125 49.21875 43.3125 52.78125 \r\nQ 43.3125 58.59375 39.234375 62.25 \r\nQ 35.15625 65.921875 28.609375 65.921875 \r\nQ 23.96875 65.921875 18.8125 64.3125 \r\nQ 13.671875 62.703125 7.8125 59.421875 \r\nL 7.8125 69.390625 \r\nQ 13.765625 71.78125 18.9375 73 \r\nQ 24.125 74.21875 28.421875 74.21875 \r\nQ 39.75 74.21875 46.484375 68.546875 \r\nQ 53.21875 62.890625 53.21875 53.421875 \r\nQ 53.21875 48.921875 51.53125 44.890625 \r\nQ 49.859375 40.875 45.40625 35.40625 \r\nQ 44.1875 33.984375 37.640625 27.21875 \r\nQ 31.109375 20.453125 19.1875 8.296875 \r\nz\r\n\" id=\"DejaVuSans-50\"/>\r\n      </defs>\r\n      <g transform=\"translate(265.092898 239.238437)scale(0.1 -0.1)\">\r\n       <use xlink:href=\"#DejaVuSans-50\"/>\r\n       <use x=\"63.623047\" xlink:href=\"#DejaVuSans-48\"/>\r\n      </g>\r\n     </g>\r\n    </g>\r\n    <g id=\"xtick_6\">\r\n     <g id=\"line2d_6\">\r\n      <g>\r\n       <use style=\"stroke:#000000;stroke-width:0.8;\" x=\"322.18267\" xlink:href=\"#m50e6f54aa8\" y=\"224.64\"/>\r\n      </g>\r\n     </g>\r\n     <g id=\"text_6\">\r\n      <!-- 25 -->\r\n      <g transform=\"translate(315.82017 239.238437)scale(0.1 -0.1)\">\r\n       <use xlink:href=\"#DejaVuSans-50\"/>\r\n       <use x=\"63.623047\" xlink:href=\"#DejaVuSans-53\"/>\r\n      </g>\r\n     </g>\r\n    </g>\r\n    <g id=\"xtick_7\">\r\n     <g id=\"line2d_7\">\r\n      <g>\r\n       <use style=\"stroke:#000000;stroke-width:0.8;\" x=\"372.909943\" xlink:href=\"#m50e6f54aa8\" y=\"224.64\"/>\r\n      </g>\r\n     </g>\r\n     <g id=\"text_7\">\r\n      <!-- 30 -->\r\n      <defs>\r\n       <path d=\"M 40.578125 39.3125 \r\nQ 47.65625 37.796875 51.625 33 \r\nQ 55.609375 28.21875 55.609375 21.1875 \r\nQ 55.609375 10.40625 48.1875 4.484375 \r\nQ 40.765625 -1.421875 27.09375 -1.421875 \r\nQ 22.515625 -1.421875 17.65625 -0.515625 \r\nQ 12.796875 0.390625 7.625 2.203125 \r\nL 7.625 11.71875 \r\nQ 11.71875 9.328125 16.59375 8.109375 \r\nQ 21.484375 6.890625 26.8125 6.890625 \r\nQ 36.078125 6.890625 40.9375 10.546875 \r\nQ 45.796875 14.203125 45.796875 21.1875 \r\nQ 45.796875 27.640625 41.28125 31.265625 \r\nQ 36.765625 34.90625 28.71875 34.90625 \r\nL 20.21875 34.90625 \r\nL 20.21875 43.015625 \r\nL 29.109375 43.015625 \r\nQ 36.375 43.015625 40.234375 45.921875 \r\nQ 44.09375 48.828125 44.09375 54.296875 \r\nQ 44.09375 59.90625 40.109375 62.90625 \r\nQ 36.140625 65.921875 28.71875 65.921875 \r\nQ 24.65625 65.921875 20.015625 65.03125 \r\nQ 15.375 64.15625 9.8125 62.3125 \r\nL 9.8125 71.09375 \r\nQ 15.4375 72.65625 20.34375 73.4375 \r\nQ 25.25 74.21875 29.59375 74.21875 \r\nQ 40.828125 74.21875 47.359375 69.109375 \r\nQ 53.90625 64.015625 53.90625 55.328125 \r\nQ 53.90625 49.265625 50.4375 45.09375 \r\nQ 46.96875 40.921875 40.578125 39.3125 \r\nz\r\n\" id=\"DejaVuSans-51\"/>\r\n      </defs>\r\n      <g transform=\"translate(366.547443 239.238437)scale(0.1 -0.1)\">\r\n       <use xlink:href=\"#DejaVuSans-51\"/>\r\n       <use x=\"63.623047\" xlink:href=\"#DejaVuSans-48\"/>\r\n      </g>\r\n     </g>\r\n    </g>\r\n   </g>\r\n   <g id=\"matplotlib.axis_2\">\r\n    <g id=\"ytick_1\">\r\n     <g id=\"line2d_8\">\r\n      <defs>\r\n       <path d=\"M 0 0 \r\nL -3.5 0 \r\n\" id=\"me9dd74ed8e\" style=\"stroke:#000000;stroke-width:0.8;\"/>\r\n      </defs>\r\n      <g>\r\n       <use style=\"stroke:#000000;stroke-width:0.8;\" x=\"53.328125\" xlink:href=\"#me9dd74ed8e\" y=\"224.64\"/>\r\n      </g>\r\n     </g>\r\n     <g id=\"text_8\">\r\n      <!-- 0 -->\r\n      <g transform=\"translate(39.965625 228.439219)scale(0.1 -0.1)\">\r\n       <use xlink:href=\"#DejaVuSans-48\"/>\r\n      </g>\r\n     </g>\r\n    </g>\r\n    <g id=\"ytick_2\">\r\n     <g id=\"line2d_9\">\r\n      <g>\r\n       <use style=\"stroke:#000000;stroke-width:0.8;\" x=\"53.328125\" xlink:href=\"#me9dd74ed8e\" y=\"177.585759\"/>\r\n      </g>\r\n     </g>\r\n     <g id=\"text_9\">\r\n      <!-- 1000 -->\r\n      <g transform=\"translate(20.878125 181.384978)scale(0.1 -0.1)\">\r\n       <use xlink:href=\"#DejaVuSans-49\"/>\r\n       <use x=\"63.623047\" xlink:href=\"#DejaVuSans-48\"/>\r\n       <use x=\"127.246094\" xlink:href=\"#DejaVuSans-48\"/>\r\n       <use x=\"190.869141\" xlink:href=\"#DejaVuSans-48\"/>\r\n      </g>\r\n     </g>\r\n    </g>\r\n    <g id=\"ytick_3\">\r\n     <g id=\"line2d_10\">\r\n      <g>\r\n       <use style=\"stroke:#000000;stroke-width:0.8;\" x=\"53.328125\" xlink:href=\"#me9dd74ed8e\" y=\"130.531518\"/>\r\n      </g>\r\n     </g>\r\n     <g id=\"text_10\">\r\n      <!-- 2000 -->\r\n      <g transform=\"translate(20.878125 134.330737)scale(0.1 -0.1)\">\r\n       <use xlink:href=\"#DejaVuSans-50\"/>\r\n       <use x=\"63.623047\" xlink:href=\"#DejaVuSans-48\"/>\r\n       <use x=\"127.246094\" xlink:href=\"#DejaVuSans-48\"/>\r\n       <use x=\"190.869141\" xlink:href=\"#DejaVuSans-48\"/>\r\n      </g>\r\n     </g>\r\n    </g>\r\n    <g id=\"ytick_4\">\r\n     <g id=\"line2d_11\">\r\n      <g>\r\n       <use style=\"stroke:#000000;stroke-width:0.8;\" x=\"53.328125\" xlink:href=\"#me9dd74ed8e\" y=\"83.477277\"/>\r\n      </g>\r\n     </g>\r\n     <g id=\"text_11\">\r\n      <!-- 3000 -->\r\n      <g transform=\"translate(20.878125 87.276496)scale(0.1 -0.1)\">\r\n       <use xlink:href=\"#DejaVuSans-51\"/>\r\n       <use x=\"63.623047\" xlink:href=\"#DejaVuSans-48\"/>\r\n       <use x=\"127.246094\" xlink:href=\"#DejaVuSans-48\"/>\r\n       <use x=\"190.869141\" xlink:href=\"#DejaVuSans-48\"/>\r\n      </g>\r\n     </g>\r\n    </g>\r\n    <g id=\"ytick_5\">\r\n     <g id=\"line2d_12\">\r\n      <g>\r\n       <use style=\"stroke:#000000;stroke-width:0.8;\" x=\"53.328125\" xlink:href=\"#me9dd74ed8e\" y=\"36.423036\"/>\r\n      </g>\r\n     </g>\r\n     <g id=\"text_12\">\r\n      <!-- 4000 -->\r\n      <defs>\r\n       <path d=\"M 37.796875 64.3125 \r\nL 12.890625 25.390625 \r\nL 37.796875 25.390625 \r\nz\r\nM 35.203125 72.90625 \r\nL 47.609375 72.90625 \r\nL 47.609375 25.390625 \r\nL 58.015625 25.390625 \r\nL 58.015625 17.1875 \r\nL 47.609375 17.1875 \r\nL 47.609375 0 \r\nL 37.796875 0 \r\nL 37.796875 17.1875 \r\nL 4.890625 17.1875 \r\nL 4.890625 26.703125 \r\nz\r\n\" id=\"DejaVuSans-52\"/>\r\n      </defs>\r\n      <g transform=\"translate(20.878125 40.222255)scale(0.1 -0.1)\">\r\n       <use xlink:href=\"#DejaVuSans-52\"/>\r\n       <use x=\"63.623047\" xlink:href=\"#DejaVuSans-48\"/>\r\n       <use x=\"127.246094\" xlink:href=\"#DejaVuSans-48\"/>\r\n       <use x=\"190.869141\" xlink:href=\"#DejaVuSans-48\"/>\r\n      </g>\r\n     </g>\r\n    </g>\r\n    <g id=\"text_13\">\r\n     <!-- Frequency -->\r\n     <defs>\r\n      <path d=\"M 9.8125 72.90625 \r\nL 51.703125 72.90625 \r\nL 51.703125 64.59375 \r\nL 19.671875 64.59375 \r\nL 19.671875 43.109375 \r\nL 48.578125 43.109375 \r\nL 48.578125 34.8125 \r\nL 19.671875 34.8125 \r\nL 19.671875 0 \r\nL 9.8125 0 \r\nz\r\n\" id=\"DejaVuSans-70\"/>\r\n      <path d=\"M 41.109375 46.296875 \r\nQ 39.59375 47.171875 37.8125 47.578125 \r\nQ 36.03125 48 33.890625 48 \r\nQ 26.265625 48 22.1875 43.046875 \r\nQ 18.109375 38.09375 18.109375 28.8125 \r\nL 18.109375 0 \r\nL 9.078125 0 \r\nL 9.078125 54.6875 \r\nL 18.109375 54.6875 \r\nL 18.109375 46.1875 \r\nQ 20.953125 51.171875 25.484375 53.578125 \r\nQ 30.03125 56 36.53125 56 \r\nQ 37.453125 56 38.578125 55.875 \r\nQ 39.703125 55.765625 41.0625 55.515625 \r\nz\r\n\" id=\"DejaVuSans-114\"/>\r\n      <path d=\"M 56.203125 29.59375 \r\nL 56.203125 25.203125 \r\nL 14.890625 25.203125 \r\nQ 15.484375 15.921875 20.484375 11.0625 \r\nQ 25.484375 6.203125 34.421875 6.203125 \r\nQ 39.59375 6.203125 44.453125 7.46875 \r\nQ 49.3125 8.734375 54.109375 11.28125 \r\nL 54.109375 2.78125 \r\nQ 49.265625 0.734375 44.1875 -0.34375 \r\nQ 39.109375 -1.421875 33.890625 -1.421875 \r\nQ 20.796875 -1.421875 13.15625 6.1875 \r\nQ 5.515625 13.8125 5.515625 26.8125 \r\nQ 5.515625 40.234375 12.765625 48.109375 \r\nQ 20.015625 56 32.328125 56 \r\nQ 43.359375 56 49.78125 48.890625 \r\nQ 56.203125 41.796875 56.203125 29.59375 \r\nz\r\nM 47.21875 32.234375 \r\nQ 47.125 39.59375 43.09375 43.984375 \r\nQ 39.0625 48.390625 32.421875 48.390625 \r\nQ 24.90625 48.390625 20.390625 44.140625 \r\nQ 15.875 39.890625 15.1875 32.171875 \r\nz\r\n\" id=\"DejaVuSans-101\"/>\r\n      <path d=\"M 14.796875 27.296875 \r\nQ 14.796875 17.390625 18.875 11.75 \r\nQ 22.953125 6.109375 30.078125 6.109375 \r\nQ 37.203125 6.109375 41.296875 11.75 \r\nQ 45.40625 17.390625 45.40625 27.296875 \r\nQ 45.40625 37.203125 41.296875 42.84375 \r\nQ 37.203125 48.484375 30.078125 48.484375 \r\nQ 22.953125 48.484375 18.875 42.84375 \r\nQ 14.796875 37.203125 14.796875 27.296875 \r\nz\r\nM 45.40625 8.203125 \r\nQ 42.578125 3.328125 38.25 0.953125 \r\nQ 33.9375 -1.421875 27.875 -1.421875 \r\nQ 17.96875 -1.421875 11.734375 6.484375 \r\nQ 5.515625 14.40625 5.515625 27.296875 \r\nQ 5.515625 40.1875 11.734375 48.09375 \r\nQ 17.96875 56 27.875 56 \r\nQ 33.9375 56 38.25 53.625 \r\nQ 42.578125 51.265625 45.40625 46.390625 \r\nL 45.40625 54.6875 \r\nL 54.390625 54.6875 \r\nL 54.390625 -20.796875 \r\nL 45.40625 -20.796875 \r\nz\r\n\" id=\"DejaVuSans-113\"/>\r\n      <path d=\"M 8.5 21.578125 \r\nL 8.5 54.6875 \r\nL 17.484375 54.6875 \r\nL 17.484375 21.921875 \r\nQ 17.484375 14.15625 20.5 10.265625 \r\nQ 23.53125 6.390625 29.59375 6.390625 \r\nQ 36.859375 6.390625 41.078125 11.03125 \r\nQ 45.3125 15.671875 45.3125 23.6875 \r\nL 45.3125 54.6875 \r\nL 54.296875 54.6875 \r\nL 54.296875 0 \r\nL 45.3125 0 \r\nL 45.3125 8.40625 \r\nQ 42.046875 3.421875 37.71875 1 \r\nQ 33.40625 -1.421875 27.6875 -1.421875 \r\nQ 18.265625 -1.421875 13.375 4.4375 \r\nQ 8.5 10.296875 8.5 21.578125 \r\nz\r\nM 31.109375 56 \r\nz\r\n\" id=\"DejaVuSans-117\"/>\r\n      <path d=\"M 54.890625 33.015625 \r\nL 54.890625 0 \r\nL 45.90625 0 \r\nL 45.90625 32.71875 \r\nQ 45.90625 40.484375 42.875 44.328125 \r\nQ 39.84375 48.1875 33.796875 48.1875 \r\nQ 26.515625 48.1875 22.3125 43.546875 \r\nQ 18.109375 38.921875 18.109375 30.90625 \r\nL 18.109375 0 \r\nL 9.078125 0 \r\nL 9.078125 54.6875 \r\nL 18.109375 54.6875 \r\nL 18.109375 46.1875 \r\nQ 21.34375 51.125 25.703125 53.5625 \r\nQ 30.078125 56 35.796875 56 \r\nQ 45.21875 56 50.046875 50.171875 \r\nQ 54.890625 44.34375 54.890625 33.015625 \r\nz\r\n\" id=\"DejaVuSans-110\"/>\r\n      <path d=\"M 48.78125 52.59375 \r\nL 48.78125 44.1875 \r\nQ 44.96875 46.296875 41.140625 47.34375 \r\nQ 37.3125 48.390625 33.40625 48.390625 \r\nQ 24.65625 48.390625 19.8125 42.84375 \r\nQ 14.984375 37.3125 14.984375 27.296875 \r\nQ 14.984375 17.28125 19.8125 11.734375 \r\nQ 24.65625 6.203125 33.40625 6.203125 \r\nQ 37.3125 6.203125 41.140625 7.25 \r\nQ 44.96875 8.296875 48.78125 10.40625 \r\nL 48.78125 2.09375 \r\nQ 45.015625 0.34375 40.984375 -0.53125 \r\nQ 36.96875 -1.421875 32.421875 -1.421875 \r\nQ 20.0625 -1.421875 12.78125 6.34375 \r\nQ 5.515625 14.109375 5.515625 27.296875 \r\nQ 5.515625 40.671875 12.859375 48.328125 \r\nQ 20.21875 56 33.015625 56 \r\nQ 37.15625 56 41.109375 55.140625 \r\nQ 45.0625 54.296875 48.78125 52.59375 \r\nz\r\n\" id=\"DejaVuSans-99\"/>\r\n      <path d=\"M 32.171875 -5.078125 \r\nQ 28.375 -14.84375 24.75 -17.8125 \r\nQ 21.140625 -20.796875 15.09375 -20.796875 \r\nL 7.90625 -20.796875 \r\nL 7.90625 -13.28125 \r\nL 13.1875 -13.28125 \r\nQ 16.890625 -13.28125 18.9375 -11.515625 \r\nQ 21 -9.765625 23.484375 -3.21875 \r\nL 25.09375 0.875 \r\nL 2.984375 54.6875 \r\nL 12.5 54.6875 \r\nL 29.59375 11.921875 \r\nL 46.6875 54.6875 \r\nL 56.203125 54.6875 \r\nz\r\n\" id=\"DejaVuSans-121\"/>\r\n     </defs>\r\n     <g transform=\"translate(14.798438 142.217656)rotate(-90)scale(0.1 -0.1)\">\r\n      <use xlink:href=\"#DejaVuSans-70\"/>\r\n      <use x=\"57.410156\" xlink:href=\"#DejaVuSans-114\"/>\r\n      <use x=\"98.492188\" xlink:href=\"#DejaVuSans-101\"/>\r\n      <use x=\"160.015625\" xlink:href=\"#DejaVuSans-113\"/>\r\n      <use x=\"223.492188\" xlink:href=\"#DejaVuSans-117\"/>\r\n      <use x=\"286.871094\" xlink:href=\"#DejaVuSans-101\"/>\r\n      <use x=\"348.394531\" xlink:href=\"#DejaVuSans-110\"/>\r\n      <use x=\"411.773438\" xlink:href=\"#DejaVuSans-99\"/>\r\n      <use x=\"466.753906\" xlink:href=\"#DejaVuSans-121\"/>\r\n     </g>\r\n    </g>\r\n   </g>\r\n   <g id=\"patch_50\">\r\n    <path d=\"M 53.328125 224.64 \r\nL 53.328125 7.2 \r\n\" style=\"fill:none;stroke:#000000;stroke-linecap:square;stroke-linejoin:miter;stroke-width:0.8;\"/>\r\n   </g>\r\n   <g id=\"patch_51\">\r\n    <path d=\"M 388.128125 224.64 \r\nL 388.128125 7.2 \r\n\" style=\"fill:none;stroke:#000000;stroke-linecap:square;stroke-linejoin:miter;stroke-width:0.8;\"/>\r\n   </g>\r\n   <g id=\"patch_52\">\r\n    <path d=\"M 53.328125 224.64 \r\nL 388.128125 224.64 \r\n\" style=\"fill:none;stroke:#000000;stroke-linecap:square;stroke-linejoin:miter;stroke-width:0.8;\"/>\r\n   </g>\r\n   <g id=\"patch_53\">\r\n    <path d=\"M 53.328125 7.2 \r\nL 388.128125 7.2 \r\n\" style=\"fill:none;stroke:#000000;stroke-linecap:square;stroke-linejoin:miter;stroke-width:0.8;\"/>\r\n   </g>\r\n  </g>\r\n </g>\r\n <defs>\r\n  <clipPath id=\"p3134db3f3c\">\r\n   <rect height=\"217.44\" width=\"334.8\" x=\"53.328125\" y=\"7.2\"/>\r\n  </clipPath>\r\n </defs>\r\n</svg>\r\n",
      "image/png": "[encoded data removed]"
     },
     "metadata": {
      "needs_background": "light"
     }
    }
   ],
   "source": [
    "lengths = []\n",
    "for x in range(1,100):\n",
    "    lengths.append(math.log(x)/2)\n",
    "\n",
    "manualBins = [0,0.1,0.2,0.3,0.4,0.5,0.666,1,1.25,1.5,1.75,2,2.25,2.5,2.75,3,3.25,3.5,3.75,4,4.25,4.5,4.75,5,5.3333,5.6666,6,6.3333,6.66666,7,7.5,8,8.5,9,9.5,10,11,12,13,14,15,16,17,18,19,20,25,30]\n",
    "\n",
    "\n",
    "winProd10pct['Margin'].plot.hist(bins=manualBins)"
   ]
  },
  {
   "cell_type": "code",
   "execution_count": 16,
   "metadata": {},
   "outputs": [
    {
     "output_type": "execute_result",
     "data": {
      "text/plain": [
       "<matplotlib.axes._subplots.AxesSubplot at 0x156108dd048>"
      ]
     },
     "metadata": {},
     "execution_count": 16
    },
    {
     "output_type": "display_data",
     "data": {
      "text/plain": "<Figure size 432x288 with 1 Axes>",
      "image/svg+xml": "<?xml version=\"1.0\" encoding=\"utf-8\" standalone=\"no\"?>\r\n<!DOCTYPE svg PUBLIC \"-//W3C//DTD SVG 1.1//EN\"\r\n  \"http://www.w3.org/Graphics/SVG/1.1/DTD/svg11.dtd\">\r\n<!-- Created with matplotlib (https://matplotlib.org/) -->\r\n<svg height=\"262.19625pt\" version=\"1.1\" viewBox=\"0 0 372.103125 262.19625\" width=\"372.103125pt\" xmlns=\"http://www.w3.org/2000/svg\" xmlns:xlink=\"http://www.w3.org/1999/xlink\">\r\n <defs>\r\n  <style type=\"text/css\">\r\n*{stroke-linecap:butt;stroke-linejoin:round;}\r\n  </style>\r\n </defs>\r\n <g id=\"figure_1\">\r\n  <g id=\"patch_1\">\r\n   <path d=\"M 0 262.19625 \r\nL 372.103125 262.19625 \r\nL 372.103125 0 \r\nL 0 0 \r\nz\r\n\" style=\"fill:none;\"/>\r\n  </g>\r\n  <g id=\"axes_1\">\r\n   <g id=\"patch_2\">\r\n    <path d=\"M 30.103125 224.64 \r\nL 364.903125 224.64 \r\nL 364.903125 7.2 \r\nL 30.103125 7.2 \r\nz\r\n\" style=\"fill:#ffffff;\"/>\r\n   </g>\r\n   <g id=\"matplotlib.axis_1\">\r\n    <g id=\"xtick_1\">\r\n     <g id=\"line2d_1\">\r\n      <defs>\r\n       <path d=\"M 0 0 \r\nL 0 3.5 \r\n\" id=\"mc73ba11feb\" style=\"stroke:#000000;stroke-width:0.8;\"/>\r\n      </defs>\r\n      <g>\r\n       <use style=\"stroke:#000000;stroke-width:0.8;\" x=\"30.103125\" xlink:href=\"#mc73ba11feb\" y=\"224.64\"/>\r\n      </g>\r\n     </g>\r\n     <g id=\"text_1\">\r\n      <!-- 0 -->\r\n      <defs>\r\n       <path d=\"M 31.78125 66.40625 \r\nQ 24.171875 66.40625 20.328125 58.90625 \r\nQ 16.5 51.421875 16.5 36.375 \r\nQ 16.5 21.390625 20.328125 13.890625 \r\nQ 24.171875 6.390625 31.78125 6.390625 \r\nQ 39.453125 6.390625 43.28125 13.890625 \r\nQ 47.125 21.390625 47.125 36.375 \r\nQ 47.125 51.421875 43.28125 58.90625 \r\nQ 39.453125 66.40625 31.78125 66.40625 \r\nz\r\nM 31.78125 74.21875 \r\nQ 44.046875 74.21875 50.515625 64.515625 \r\nQ 56.984375 54.828125 56.984375 36.375 \r\nQ 56.984375 17.96875 50.515625 8.265625 \r\nQ 44.046875 -1.421875 31.78125 -1.421875 \r\nQ 19.53125 -1.421875 13.0625 8.265625 \r\nQ 6.59375 17.96875 6.59375 36.375 \r\nQ 6.59375 54.828125 13.0625 64.515625 \r\nQ 19.53125 74.21875 31.78125 74.21875 \r\nz\r\n\" id=\"DejaVuSans-48\"/>\r\n      </defs>\r\n      <g transform=\"translate(26.921875 239.238438)scale(0.1 -0.1)\">\r\n       <use xlink:href=\"#DejaVuSans-48\"/>\r\n      </g>\r\n     </g>\r\n    </g>\r\n    <g id=\"xtick_2\">\r\n     <g id=\"line2d_2\">\r\n      <g>\r\n       <use style=\"stroke:#000000;stroke-width:0.8;\" x=\"97.739489\" xlink:href=\"#mc73ba11feb\" y=\"224.64\"/>\r\n      </g>\r\n     </g>\r\n     <g id=\"text_2\">\r\n      <!-- 5 -->\r\n      <defs>\r\n       <path d=\"M 10.796875 72.90625 \r\nL 49.515625 72.90625 \r\nL 49.515625 64.59375 \r\nL 19.828125 64.59375 \r\nL 19.828125 46.734375 \r\nQ 21.96875 47.46875 24.109375 47.828125 \r\nQ 26.265625 48.1875 28.421875 48.1875 \r\nQ 40.625 48.1875 47.75 41.5 \r\nQ 54.890625 34.8125 54.890625 23.390625 \r\nQ 54.890625 11.625 47.5625 5.09375 \r\nQ 40.234375 -1.421875 26.90625 -1.421875 \r\nQ 22.3125 -1.421875 17.546875 -0.640625 \r\nQ 12.796875 0.140625 7.71875 1.703125 \r\nL 7.71875 11.625 \r\nQ 12.109375 9.234375 16.796875 8.0625 \r\nQ 21.484375 6.890625 26.703125 6.890625 \r\nQ 35.15625 6.890625 40.078125 11.328125 \r\nQ 45.015625 15.765625 45.015625 23.390625 \r\nQ 45.015625 31 40.078125 35.4375 \r\nQ 35.15625 39.890625 26.703125 39.890625 \r\nQ 22.75 39.890625 18.8125 39.015625 \r\nQ 14.890625 38.140625 10.796875 36.28125 \r\nz\r\n\" id=\"DejaVuSans-53\"/>\r\n      </defs>\r\n      <g transform=\"translate(94.558239 239.238438)scale(0.1 -0.1)\">\r\n       <use xlink:href=\"#DejaVuSans-53\"/>\r\n      </g>\r\n     </g>\r\n    </g>\r\n    <g id=\"xtick_3\">\r\n     <g id=\"line2d_3\">\r\n      <g>\r\n       <use style=\"stroke:#000000;stroke-width:0.8;\" x=\"165.375852\" xlink:href=\"#mc73ba11feb\" y=\"224.64\"/>\r\n      </g>\r\n     </g>\r\n     <g id=\"text_3\">\r\n      <!-- 10 -->\r\n      <defs>\r\n       <path d=\"M 12.40625 8.296875 \r\nL 28.515625 8.296875 \r\nL 28.515625 63.921875 \r\nL 10.984375 60.40625 \r\nL 10.984375 69.390625 \r\nL 28.421875 72.90625 \r\nL 38.28125 72.90625 \r\nL 38.28125 8.296875 \r\nL 54.390625 8.296875 \r\nL 54.390625 0 \r\nL 12.40625 0 \r\nz\r\n\" id=\"DejaVuSans-49\"/>\r\n      </defs>\r\n      <g transform=\"translate(159.013352 239.238438)scale(0.1 -0.1)\">\r\n       <use xlink:href=\"#DejaVuSans-49\"/>\r\n       <use x=\"63.623047\" xlink:href=\"#DejaVuSans-48\"/>\r\n      </g>\r\n     </g>\r\n    </g>\r\n    <g id=\"xtick_4\">\r\n     <g id=\"line2d_4\">\r\n      <g>\r\n       <use style=\"stroke:#000000;stroke-width:0.8;\" x=\"233.012216\" xlink:href=\"#mc73ba11feb\" y=\"224.64\"/>\r\n      </g>\r\n     </g>\r\n     <g id=\"text_4\">\r\n      <!-- 15 -->\r\n      <g transform=\"translate(226.649716 239.238438)scale(0.1 -0.1)\">\r\n       <use xlink:href=\"#DejaVuSans-49\"/>\r\n       <use x=\"63.623047\" xlink:href=\"#DejaVuSans-53\"/>\r\n      </g>\r\n     </g>\r\n    </g>\r\n    <g id=\"xtick_5\">\r\n     <g id=\"line2d_5\">\r\n      <g>\r\n       <use style=\"stroke:#000000;stroke-width:0.8;\" x=\"300.64858\" xlink:href=\"#mc73ba11feb\" y=\"224.64\"/>\r\n      </g>\r\n     </g>\r\n     <g id=\"text_5\">\r\n      <!-- 20 -->\r\n      <defs>\r\n       <path d=\"M 19.1875 8.296875 \r\nL 53.609375 8.296875 \r\nL 53.609375 0 \r\nL 7.328125 0 \r\nL 7.328125 8.296875 \r\nQ 12.9375 14.109375 22.625 23.890625 \r\nQ 32.328125 33.6875 34.8125 36.53125 \r\nQ 39.546875 41.84375 41.421875 45.53125 \r\nQ 43.3125 49.21875 43.3125 52.78125 \r\nQ 43.3125 58.59375 39.234375 62.25 \r\nQ 35.15625 65.921875 28.609375 65.921875 \r\nQ 23.96875 65.921875 18.8125 64.3125 \r\nQ 13.671875 62.703125 7.8125 59.421875 \r\nL 7.8125 69.390625 \r\nQ 13.765625 71.78125 18.9375 73 \r\nQ 24.125 74.21875 28.421875 74.21875 \r\nQ 39.75 74.21875 46.484375 68.546875 \r\nQ 53.21875 62.890625 53.21875 53.421875 \r\nQ 53.21875 48.921875 51.53125 44.890625 \r\nQ 49.859375 40.875 45.40625 35.40625 \r\nQ 44.1875 33.984375 37.640625 27.21875 \r\nQ 31.109375 20.453125 19.1875 8.296875 \r\nz\r\n\" id=\"DejaVuSans-50\"/>\r\n      </defs>\r\n      <g transform=\"translate(294.28608 239.238438)scale(0.1 -0.1)\">\r\n       <use xlink:href=\"#DejaVuSans-50\"/>\r\n       <use x=\"63.623047\" xlink:href=\"#DejaVuSans-48\"/>\r\n      </g>\r\n     </g>\r\n    </g>\r\n    <g id=\"text_6\">\r\n     <!-- Lengths -->\r\n     <defs>\r\n      <path d=\"M 9.8125 72.90625 \r\nL 19.671875 72.90625 \r\nL 19.671875 8.296875 \r\nL 55.171875 8.296875 \r\nL 55.171875 0 \r\nL 9.8125 0 \r\nz\r\n\" id=\"DejaVuSans-76\"/>\r\n      <path d=\"M 56.203125 29.59375 \r\nL 56.203125 25.203125 \r\nL 14.890625 25.203125 \r\nQ 15.484375 15.921875 20.484375 11.0625 \r\nQ 25.484375 6.203125 34.421875 6.203125 \r\nQ 39.59375 6.203125 44.453125 7.46875 \r\nQ 49.3125 8.734375 54.109375 11.28125 \r\nL 54.109375 2.78125 \r\nQ 49.265625 0.734375 44.1875 -0.34375 \r\nQ 39.109375 -1.421875 33.890625 -1.421875 \r\nQ 20.796875 -1.421875 13.15625 6.1875 \r\nQ 5.515625 13.8125 5.515625 26.8125 \r\nQ 5.515625 40.234375 12.765625 48.109375 \r\nQ 20.015625 56 32.328125 56 \r\nQ 43.359375 56 49.78125 48.890625 \r\nQ 56.203125 41.796875 56.203125 29.59375 \r\nz\r\nM 47.21875 32.234375 \r\nQ 47.125 39.59375 43.09375 43.984375 \r\nQ 39.0625 48.390625 32.421875 48.390625 \r\nQ 24.90625 48.390625 20.390625 44.140625 \r\nQ 15.875 39.890625 15.1875 32.171875 \r\nz\r\n\" id=\"DejaVuSans-101\"/>\r\n      <path d=\"M 54.890625 33.015625 \r\nL 54.890625 0 \r\nL 45.90625 0 \r\nL 45.90625 32.71875 \r\nQ 45.90625 40.484375 42.875 44.328125 \r\nQ 39.84375 48.1875 33.796875 48.1875 \r\nQ 26.515625 48.1875 22.3125 43.546875 \r\nQ 18.109375 38.921875 18.109375 30.90625 \r\nL 18.109375 0 \r\nL 9.078125 0 \r\nL 9.078125 54.6875 \r\nL 18.109375 54.6875 \r\nL 18.109375 46.1875 \r\nQ 21.34375 51.125 25.703125 53.5625 \r\nQ 30.078125 56 35.796875 56 \r\nQ 45.21875 56 50.046875 50.171875 \r\nQ 54.890625 44.34375 54.890625 33.015625 \r\nz\r\n\" id=\"DejaVuSans-110\"/>\r\n      <path d=\"M 45.40625 27.984375 \r\nQ 45.40625 37.75 41.375 43.109375 \r\nQ 37.359375 48.484375 30.078125 48.484375 \r\nQ 22.859375 48.484375 18.828125 43.109375 \r\nQ 14.796875 37.75 14.796875 27.984375 \r\nQ 14.796875 18.265625 18.828125 12.890625 \r\nQ 22.859375 7.515625 30.078125 7.515625 \r\nQ 37.359375 7.515625 41.375 12.890625 \r\nQ 45.40625 18.265625 45.40625 27.984375 \r\nz\r\nM 54.390625 6.78125 \r\nQ 54.390625 -7.171875 48.1875 -13.984375 \r\nQ 42 -20.796875 29.203125 -20.796875 \r\nQ 24.46875 -20.796875 20.265625 -20.09375 \r\nQ 16.0625 -19.390625 12.109375 -17.921875 \r\nL 12.109375 -9.1875 \r\nQ 16.0625 -11.328125 19.921875 -12.34375 \r\nQ 23.78125 -13.375 27.78125 -13.375 \r\nQ 36.625 -13.375 41.015625 -8.765625 \r\nQ 45.40625 -4.15625 45.40625 5.171875 \r\nL 45.40625 9.625 \r\nQ 42.625 4.78125 38.28125 2.390625 \r\nQ 33.9375 0 27.875 0 \r\nQ 17.828125 0 11.671875 7.65625 \r\nQ 5.515625 15.328125 5.515625 27.984375 \r\nQ 5.515625 40.671875 11.671875 48.328125 \r\nQ 17.828125 56 27.875 56 \r\nQ 33.9375 56 38.28125 53.609375 \r\nQ 42.625 51.21875 45.40625 46.390625 \r\nL 45.40625 54.6875 \r\nL 54.390625 54.6875 \r\nz\r\n\" id=\"DejaVuSans-103\"/>\r\n      <path d=\"M 18.3125 70.21875 \r\nL 18.3125 54.6875 \r\nL 36.8125 54.6875 \r\nL 36.8125 47.703125 \r\nL 18.3125 47.703125 \r\nL 18.3125 18.015625 \r\nQ 18.3125 11.328125 20.140625 9.421875 \r\nQ 21.96875 7.515625 27.59375 7.515625 \r\nL 36.8125 7.515625 \r\nL 36.8125 0 \r\nL 27.59375 0 \r\nQ 17.1875 0 13.234375 3.875 \r\nQ 9.28125 7.765625 9.28125 18.015625 \r\nL 9.28125 47.703125 \r\nL 2.6875 47.703125 \r\nL 2.6875 54.6875 \r\nL 9.28125 54.6875 \r\nL 9.28125 70.21875 \r\nz\r\n\" id=\"DejaVuSans-116\"/>\r\n      <path d=\"M 54.890625 33.015625 \r\nL 54.890625 0 \r\nL 45.90625 0 \r\nL 45.90625 32.71875 \r\nQ 45.90625 40.484375 42.875 44.328125 \r\nQ 39.84375 48.1875 33.796875 48.1875 \r\nQ 26.515625 48.1875 22.3125 43.546875 \r\nQ 18.109375 38.921875 18.109375 30.90625 \r\nL 18.109375 0 \r\nL 9.078125 0 \r\nL 9.078125 75.984375 \r\nL 18.109375 75.984375 \r\nL 18.109375 46.1875 \r\nQ 21.34375 51.125 25.703125 53.5625 \r\nQ 30.078125 56 35.796875 56 \r\nQ 45.21875 56 50.046875 50.171875 \r\nQ 54.890625 44.34375 54.890625 33.015625 \r\nz\r\n\" id=\"DejaVuSans-104\"/>\r\n      <path d=\"M 44.28125 53.078125 \r\nL 44.28125 44.578125 \r\nQ 40.484375 46.53125 36.375 47.5 \r\nQ 32.28125 48.484375 27.875 48.484375 \r\nQ 21.1875 48.484375 17.84375 46.4375 \r\nQ 14.5 44.390625 14.5 40.28125 \r\nQ 14.5 37.15625 16.890625 35.375 \r\nQ 19.28125 33.59375 26.515625 31.984375 \r\nL 29.59375 31.296875 \r\nQ 39.15625 29.25 43.1875 25.515625 \r\nQ 47.21875 21.78125 47.21875 15.09375 \r\nQ 47.21875 7.46875 41.1875 3.015625 \r\nQ 35.15625 -1.421875 24.609375 -1.421875 \r\nQ 20.21875 -1.421875 15.453125 -0.5625 \r\nQ 10.6875 0.296875 5.421875 2 \r\nL 5.421875 11.28125 \r\nQ 10.40625 8.6875 15.234375 7.390625 \r\nQ 20.0625 6.109375 24.8125 6.109375 \r\nQ 31.15625 6.109375 34.5625 8.28125 \r\nQ 37.984375 10.453125 37.984375 14.40625 \r\nQ 37.984375 18.0625 35.515625 20.015625 \r\nQ 33.0625 21.96875 24.703125 23.78125 \r\nL 21.578125 24.515625 \r\nQ 13.234375 26.265625 9.515625 29.90625 \r\nQ 5.8125 33.546875 5.8125 39.890625 \r\nQ 5.8125 47.609375 11.28125 51.796875 \r\nQ 16.75 56 26.8125 56 \r\nQ 31.78125 56 36.171875 55.265625 \r\nQ 40.578125 54.546875 44.28125 53.078125 \r\nz\r\n\" id=\"DejaVuSans-115\"/>\r\n     </defs>\r\n     <g transform=\"translate(177.564844 252.916563)scale(0.1 -0.1)\">\r\n      <use xlink:href=\"#DejaVuSans-76\"/>\r\n      <use x=\"55.697266\" xlink:href=\"#DejaVuSans-101\"/>\r\n      <use x=\"117.220703\" xlink:href=\"#DejaVuSans-110\"/>\r\n      <use x=\"180.599609\" xlink:href=\"#DejaVuSans-103\"/>\r\n      <use x=\"244.076172\" xlink:href=\"#DejaVuSans-116\"/>\r\n      <use x=\"283.285156\" xlink:href=\"#DejaVuSans-104\"/>\r\n      <use x=\"346.664062\" xlink:href=\"#DejaVuSans-115\"/>\r\n     </g>\r\n    </g>\r\n   </g>\r\n   <g id=\"matplotlib.axis_2\">\r\n    <g id=\"ytick_1\">\r\n     <g id=\"line2d_6\">\r\n      <defs>\r\n       <path d=\"M 0 0 \r\nL -3.5 0 \r\n\" id=\"mf3419271bb\" style=\"stroke:#000000;stroke-width:0.8;\"/>\r\n      </defs>\r\n      <g>\r\n       <use style=\"stroke:#000000;stroke-width:0.8;\" x=\"30.103125\" xlink:href=\"#mf3419271bb\" y=\"192.767737\"/>\r\n      </g>\r\n     </g>\r\n     <g id=\"text_7\">\r\n      <!-- 0.2 -->\r\n      <defs>\r\n       <path d=\"M 10.6875 12.40625 \r\nL 21 12.40625 \r\nL 21 0 \r\nL 10.6875 0 \r\nz\r\n\" id=\"DejaVuSans-46\"/>\r\n      </defs>\r\n      <g transform=\"translate(7.2 196.566956)scale(0.1 -0.1)\">\r\n       <use xlink:href=\"#DejaVuSans-48\"/>\r\n       <use x=\"63.623047\" xlink:href=\"#DejaVuSans-46\"/>\r\n       <use x=\"95.410156\" xlink:href=\"#DejaVuSans-50\"/>\r\n      </g>\r\n     </g>\r\n    </g>\r\n    <g id=\"ytick_2\">\r\n     <g id=\"line2d_7\">\r\n      <g>\r\n       <use style=\"stroke:#000000;stroke-width:0.8;\" x=\"30.103125\" xlink:href=\"#mf3419271bb\" y=\"148.585747\"/>\r\n      </g>\r\n     </g>\r\n     <g id=\"text_8\">\r\n      <!-- 0.4 -->\r\n      <defs>\r\n       <path d=\"M 37.796875 64.3125 \r\nL 12.890625 25.390625 \r\nL 37.796875 25.390625 \r\nz\r\nM 35.203125 72.90625 \r\nL 47.609375 72.90625 \r\nL 47.609375 25.390625 \r\nL 58.015625 25.390625 \r\nL 58.015625 17.1875 \r\nL 47.609375 17.1875 \r\nL 47.609375 0 \r\nL 37.796875 0 \r\nL 37.796875 17.1875 \r\nL 4.890625 17.1875 \r\nL 4.890625 26.703125 \r\nz\r\n\" id=\"DejaVuSans-52\"/>\r\n      </defs>\r\n      <g transform=\"translate(7.2 152.384966)scale(0.1 -0.1)\">\r\n       <use xlink:href=\"#DejaVuSans-48\"/>\r\n       <use x=\"63.623047\" xlink:href=\"#DejaVuSans-46\"/>\r\n       <use x=\"95.410156\" xlink:href=\"#DejaVuSans-52\"/>\r\n      </g>\r\n     </g>\r\n    </g>\r\n    <g id=\"ytick_3\">\r\n     <g id=\"line2d_8\">\r\n      <g>\r\n       <use style=\"stroke:#000000;stroke-width:0.8;\" x=\"30.103125\" xlink:href=\"#mf3419271bb\" y=\"104.403757\"/>\r\n      </g>\r\n     </g>\r\n     <g id=\"text_9\">\r\n      <!-- 0.6 -->\r\n      <defs>\r\n       <path d=\"M 33.015625 40.375 \r\nQ 26.375 40.375 22.484375 35.828125 \r\nQ 18.609375 31.296875 18.609375 23.390625 \r\nQ 18.609375 15.53125 22.484375 10.953125 \r\nQ 26.375 6.390625 33.015625 6.390625 \r\nQ 39.65625 6.390625 43.53125 10.953125 \r\nQ 47.40625 15.53125 47.40625 23.390625 \r\nQ 47.40625 31.296875 43.53125 35.828125 \r\nQ 39.65625 40.375 33.015625 40.375 \r\nz\r\nM 52.59375 71.296875 \r\nL 52.59375 62.3125 \r\nQ 48.875 64.0625 45.09375 64.984375 \r\nQ 41.3125 65.921875 37.59375 65.921875 \r\nQ 27.828125 65.921875 22.671875 59.328125 \r\nQ 17.53125 52.734375 16.796875 39.40625 \r\nQ 19.671875 43.65625 24.015625 45.921875 \r\nQ 28.375 48.1875 33.59375 48.1875 \r\nQ 44.578125 48.1875 50.953125 41.515625 \r\nQ 57.328125 34.859375 57.328125 23.390625 \r\nQ 57.328125 12.15625 50.6875 5.359375 \r\nQ 44.046875 -1.421875 33.015625 -1.421875 \r\nQ 20.359375 -1.421875 13.671875 8.265625 \r\nQ 6.984375 17.96875 6.984375 36.375 \r\nQ 6.984375 53.65625 15.1875 63.9375 \r\nQ 23.390625 74.21875 37.203125 74.21875 \r\nQ 40.921875 74.21875 44.703125 73.484375 \r\nQ 48.484375 72.75 52.59375 71.296875 \r\nz\r\n\" id=\"DejaVuSans-54\"/>\r\n      </defs>\r\n      <g transform=\"translate(7.2 108.202976)scale(0.1 -0.1)\">\r\n       <use xlink:href=\"#DejaVuSans-48\"/>\r\n       <use x=\"63.623047\" xlink:href=\"#DejaVuSans-46\"/>\r\n       <use x=\"95.410156\" xlink:href=\"#DejaVuSans-54\"/>\r\n      </g>\r\n     </g>\r\n    </g>\r\n    <g id=\"ytick_4\">\r\n     <g id=\"line2d_9\">\r\n      <g>\r\n       <use style=\"stroke:#000000;stroke-width:0.8;\" x=\"30.103125\" xlink:href=\"#mf3419271bb\" y=\"60.221767\"/>\r\n      </g>\r\n     </g>\r\n     <g id=\"text_10\">\r\n      <!-- 0.8 -->\r\n      <defs>\r\n       <path d=\"M 31.78125 34.625 \r\nQ 24.75 34.625 20.71875 30.859375 \r\nQ 16.703125 27.09375 16.703125 20.515625 \r\nQ 16.703125 13.921875 20.71875 10.15625 \r\nQ 24.75 6.390625 31.78125 6.390625 \r\nQ 38.8125 6.390625 42.859375 10.171875 \r\nQ 46.921875 13.96875 46.921875 20.515625 \r\nQ 46.921875 27.09375 42.890625 30.859375 \r\nQ 38.875 34.625 31.78125 34.625 \r\nz\r\nM 21.921875 38.8125 \r\nQ 15.578125 40.375 12.03125 44.71875 \r\nQ 8.5 49.078125 8.5 55.328125 \r\nQ 8.5 64.0625 14.71875 69.140625 \r\nQ 20.953125 74.21875 31.78125 74.21875 \r\nQ 42.671875 74.21875 48.875 69.140625 \r\nQ 55.078125 64.0625 55.078125 55.328125 \r\nQ 55.078125 49.078125 51.53125 44.71875 \r\nQ 48 40.375 41.703125 38.8125 \r\nQ 48.828125 37.15625 52.796875 32.3125 \r\nQ 56.78125 27.484375 56.78125 20.515625 \r\nQ 56.78125 9.90625 50.3125 4.234375 \r\nQ 43.84375 -1.421875 31.78125 -1.421875 \r\nQ 19.734375 -1.421875 13.25 4.234375 \r\nQ 6.78125 9.90625 6.78125 20.515625 \r\nQ 6.78125 27.484375 10.78125 32.3125 \r\nQ 14.796875 37.15625 21.921875 38.8125 \r\nz\r\nM 18.3125 54.390625 \r\nQ 18.3125 48.734375 21.84375 45.5625 \r\nQ 25.390625 42.390625 31.78125 42.390625 \r\nQ 38.140625 42.390625 41.71875 45.5625 \r\nQ 45.3125 48.734375 45.3125 54.390625 \r\nQ 45.3125 60.0625 41.71875 63.234375 \r\nQ 38.140625 66.40625 31.78125 66.40625 \r\nQ 25.390625 66.40625 21.84375 63.234375 \r\nQ 18.3125 60.0625 18.3125 54.390625 \r\nz\r\n\" id=\"DejaVuSans-56\"/>\r\n      </defs>\r\n      <g transform=\"translate(7.2 64.020986)scale(0.1 -0.1)\">\r\n       <use xlink:href=\"#DejaVuSans-48\"/>\r\n       <use x=\"63.623047\" xlink:href=\"#DejaVuSans-46\"/>\r\n       <use x=\"95.410156\" xlink:href=\"#DejaVuSans-56\"/>\r\n      </g>\r\n     </g>\r\n    </g>\r\n    <g id=\"ytick_5\">\r\n     <g id=\"line2d_10\">\r\n      <g>\r\n       <use style=\"stroke:#000000;stroke-width:0.8;\" x=\"30.103125\" xlink:href=\"#mf3419271bb\" y=\"16.039777\"/>\r\n      </g>\r\n     </g>\r\n     <g id=\"text_11\">\r\n      <!-- 1.0 -->\r\n      <g transform=\"translate(7.2 19.838995)scale(0.1 -0.1)\">\r\n       <use xlink:href=\"#DejaVuSans-49\"/>\r\n       <use x=\"63.623047\" xlink:href=\"#DejaVuSans-46\"/>\r\n       <use x=\"95.410156\" xlink:href=\"#DejaVuSans-48\"/>\r\n      </g>\r\n     </g>\r\n    </g>\r\n   </g>\r\n   <g id=\"line2d_11\">\r\n    <path clip-path=\"url(#pf48d50cf06)\" d=\"M 30.103125 214.756364 \r\nL 33.484943 207.237548 \r\nL 36.866761 199.274967 \r\nL 40.24858 196.748524 \r\nL 43.630398 187.414301 \r\nL 47.012216 183.944854 \r\nL 50.394034 173.092748 \r\nL 53.775852 168.402944 \r\nL 57.15767 158.413156 \r\nL 60.539489 153.153516 \r\nL 63.921307 143.289798 \r\nL 67.303125 137.924259 \r\nL 70.684943 128.307639 \r\nL 74.066761 123.053041 \r\nL 77.44858 113.976001 \r\nL 80.830398 108.983628 \r\nL 84.212216 100.73865 \r\nL 87.594034 96.386713 \r\nL 90.975852 89.170466 \r\nL 94.35767 84.929471 \r\nL 97.739489 78.868025 \r\nL 101.121307 75.358236 \r\nL 104.503125 69.816199 \r\nL 107.884943 66.780433 \r\nL 111.266761 62.206613 \r\nL 114.64858 59.649913 \r\nL 118.030398 55.746786 \r\nL 121.412216 53.588467 \r\nL 124.794034 49.90218 \r\nL 128.175852 47.910274 \r\nL 131.55767 44.879551 \r\nL 134.939489 43.25577 \r\nL 138.321307 40.956253 \r\nL 141.703125 39.589654 \r\nL 145.084943 37.396036 \r\nL 148.466761 36.205935 \r\nL 151.84858 34.466169 \r\nL 155.230398 33.472737 \r\nL 158.612216 32.060753 \r\nL 161.994034 31.238777 \r\nL 165.375852 30.053719 \r\nL 168.75767 29.337641 \r\nL 172.139489 28.248396 \r\nL 175.521307 27.673517 \r\nL 178.903125 26.770856 \r\nL 182.284943 26.22119 \r\nL 185.666761 25.621097 \r\nL 189.04858 25.202545 \r\nL 192.430398 24.541938 \r\nL 195.812216 24.193985 \r\nL 199.194034 23.684662 \r\nL 202.575852 23.341751 \r\nL 205.95767 22.847557 \r\nL 209.339489 22.534903 \r\nL 212.721307 22.116351 \r\nL 216.103125 21.859168 \r\nL 219.484943 21.511215 \r\nL 222.866761 21.279246 \r\nL 226.24858 20.921207 \r\nL 229.630398 20.744709 \r\nL 233.012216 20.507698 \r\nL 236.394034 20.336243 \r\nL 239.775852 20.094188 \r\nL 243.15767 19.978204 \r\nL 246.539489 19.731106 \r\nL 249.921307 19.594951 \r\nL 253.303125 19.403324 \r\nL 256.684943 19.317597 \r\nL 260.066761 19.136056 \r\nL 263.44858 19.015029 \r\nL 266.830398 18.843574 \r\nL 270.212216 18.707418 \r\nL 273.594034 18.631776 \r\nL 276.975852 18.561177 \r\nL 280.35767 18.435107 \r\nL 283.739489 18.359465 \r\nL 287.121307 18.263652 \r\nL 290.503125 18.213224 \r\nL 293.884943 18.122453 \r\nL 297.266761 18.082111 \r\nL 300.64858 17.99134 \r\nL 304.030398 17.93587 \r\nL 307.412216 17.875356 \r\nL 310.794034 17.845099 \r\nL 314.175852 17.779543 \r\nL 317.55767 17.68373 \r\nL 320.939489 17.618173 \r\nL 324.321307 17.592959 \r\nL 327.703125 17.507232 \r\nL 331.084943 17.471932 \r\nL 334.466761 17.401333 \r\nL 337.84858 17.366033 \r\nL 341.230398 17.330734 \r\nL 344.612216 17.280306 \r\nL 347.994034 17.260134 \r\nL 351.375852 17.250049 \r\nL 354.75767 17.209706 \r\nL 358.139489 17.17945 \r\nL 361.521307 17.10885 \r\nL 364.903125 17.083636 \r\n\" style=\"fill:none;stroke:#1f77b4;stroke-linecap:square;stroke-width:1.5;\"/>\r\n   </g>\r\n   <g id=\"patch_3\">\r\n    <path d=\"M 30.103125 224.64 \r\nL 30.103125 7.2 \r\n\" style=\"fill:none;stroke:#000000;stroke-linecap:square;stroke-linejoin:miter;stroke-width:0.8;\"/>\r\n   </g>\r\n   <g id=\"patch_4\">\r\n    <path d=\"M 364.903125 224.64 \r\nL 364.903125 7.2 \r\n\" style=\"fill:none;stroke:#000000;stroke-linecap:square;stroke-linejoin:miter;stroke-width:0.8;\"/>\r\n   </g>\r\n   <g id=\"patch_5\">\r\n    <path d=\"M 30.103125 224.64 \r\nL 364.903125 224.64 \r\n\" style=\"fill:none;stroke:#000000;stroke-linecap:square;stroke-linejoin:miter;stroke-width:0.8;\"/>\r\n   </g>\r\n   <g id=\"patch_6\">\r\n    <path d=\"M 30.103125 7.2 \r\nL 364.903125 7.2 \r\n\" style=\"fill:none;stroke:#000000;stroke-linecap:square;stroke-linejoin:miter;stroke-width:0.8;\"/>\r\n   </g>\r\n   <g id=\"legend_1\">\r\n    <g id=\"patch_7\">\r\n     <path d=\"M 37.103125 29.878125 \r\nL 114.767188 29.878125 \r\nQ 116.767188 29.878125 116.767188 27.878125 \r\nL 116.767188 14.2 \r\nQ 116.767188 12.2 114.767188 12.2 \r\nL 37.103125 12.2 \r\nQ 35.103125 12.2 35.103125 14.2 \r\nL 35.103125 27.878125 \r\nQ 35.103125 29.878125 37.103125 29.878125 \r\nz\r\n\" style=\"fill:#ffffff;opacity:0.8;stroke:#cccccc;stroke-linejoin:miter;\"/>\r\n    </g>\r\n    <g id=\"line2d_12\">\r\n     <path d=\"M 39.103125 20.298438 \r\nL 59.103125 20.298438 \r\n\" style=\"fill:none;stroke:#1f77b4;stroke-linecap:square;stroke-width:1.5;\"/>\r\n    </g>\r\n    <g id=\"line2d_13\"/>\r\n    <g id=\"text_12\">\r\n     <!-- CumProb -->\r\n     <defs>\r\n      <path d=\"M 64.40625 67.28125 \r\nL 64.40625 56.890625 \r\nQ 59.421875 61.53125 53.78125 63.8125 \r\nQ 48.140625 66.109375 41.796875 66.109375 \r\nQ 29.296875 66.109375 22.65625 58.46875 \r\nQ 16.015625 50.828125 16.015625 36.375 \r\nQ 16.015625 21.96875 22.65625 14.328125 \r\nQ 29.296875 6.6875 41.796875 6.6875 \r\nQ 48.140625 6.6875 53.78125 8.984375 \r\nQ 59.421875 11.28125 64.40625 15.921875 \r\nL 64.40625 5.609375 \r\nQ 59.234375 2.09375 53.4375 0.328125 \r\nQ 47.65625 -1.421875 41.21875 -1.421875 \r\nQ 24.65625 -1.421875 15.125 8.703125 \r\nQ 5.609375 18.84375 5.609375 36.375 \r\nQ 5.609375 53.953125 15.125 64.078125 \r\nQ 24.65625 74.21875 41.21875 74.21875 \r\nQ 47.75 74.21875 53.53125 72.484375 \r\nQ 59.328125 70.75 64.40625 67.28125 \r\nz\r\n\" id=\"DejaVuSans-67\"/>\r\n      <path d=\"M 8.5 21.578125 \r\nL 8.5 54.6875 \r\nL 17.484375 54.6875 \r\nL 17.484375 21.921875 \r\nQ 17.484375 14.15625 20.5 10.265625 \r\nQ 23.53125 6.390625 29.59375 6.390625 \r\nQ 36.859375 6.390625 41.078125 11.03125 \r\nQ 45.3125 15.671875 45.3125 23.6875 \r\nL 45.3125 54.6875 \r\nL 54.296875 54.6875 \r\nL 54.296875 0 \r\nL 45.3125 0 \r\nL 45.3125 8.40625 \r\nQ 42.046875 3.421875 37.71875 1 \r\nQ 33.40625 -1.421875 27.6875 -1.421875 \r\nQ 18.265625 -1.421875 13.375 4.4375 \r\nQ 8.5 10.296875 8.5 21.578125 \r\nz\r\nM 31.109375 56 \r\nz\r\n\" id=\"DejaVuSans-117\"/>\r\n      <path d=\"M 52 44.1875 \r\nQ 55.375 50.25 60.0625 53.125 \r\nQ 64.75 56 71.09375 56 \r\nQ 79.640625 56 84.28125 50.015625 \r\nQ 88.921875 44.046875 88.921875 33.015625 \r\nL 88.921875 0 \r\nL 79.890625 0 \r\nL 79.890625 32.71875 \r\nQ 79.890625 40.578125 77.09375 44.375 \r\nQ 74.3125 48.1875 68.609375 48.1875 \r\nQ 61.625 48.1875 57.5625 43.546875 \r\nQ 53.515625 38.921875 53.515625 30.90625 \r\nL 53.515625 0 \r\nL 44.484375 0 \r\nL 44.484375 32.71875 \r\nQ 44.484375 40.625 41.703125 44.40625 \r\nQ 38.921875 48.1875 33.109375 48.1875 \r\nQ 26.21875 48.1875 22.15625 43.53125 \r\nQ 18.109375 38.875 18.109375 30.90625 \r\nL 18.109375 0 \r\nL 9.078125 0 \r\nL 9.078125 54.6875 \r\nL 18.109375 54.6875 \r\nL 18.109375 46.1875 \r\nQ 21.1875 51.21875 25.484375 53.609375 \r\nQ 29.78125 56 35.6875 56 \r\nQ 41.65625 56 45.828125 52.96875 \r\nQ 50 49.953125 52 44.1875 \r\nz\r\n\" id=\"DejaVuSans-109\"/>\r\n      <path d=\"M 19.671875 64.796875 \r\nL 19.671875 37.40625 \r\nL 32.078125 37.40625 \r\nQ 38.96875 37.40625 42.71875 40.96875 \r\nQ 46.484375 44.53125 46.484375 51.125 \r\nQ 46.484375 57.671875 42.71875 61.234375 \r\nQ 38.96875 64.796875 32.078125 64.796875 \r\nz\r\nM 9.8125 72.90625 \r\nL 32.078125 72.90625 \r\nQ 44.34375 72.90625 50.609375 67.359375 \r\nQ 56.890625 61.8125 56.890625 51.125 \r\nQ 56.890625 40.328125 50.609375 34.8125 \r\nQ 44.34375 29.296875 32.078125 29.296875 \r\nL 19.671875 29.296875 \r\nL 19.671875 0 \r\nL 9.8125 0 \r\nz\r\n\" id=\"DejaVuSans-80\"/>\r\n      <path d=\"M 41.109375 46.296875 \r\nQ 39.59375 47.171875 37.8125 47.578125 \r\nQ 36.03125 48 33.890625 48 \r\nQ 26.265625 48 22.1875 43.046875 \r\nQ 18.109375 38.09375 18.109375 28.8125 \r\nL 18.109375 0 \r\nL 9.078125 0 \r\nL 9.078125 54.6875 \r\nL 18.109375 54.6875 \r\nL 18.109375 46.1875 \r\nQ 20.953125 51.171875 25.484375 53.578125 \r\nQ 30.03125 56 36.53125 56 \r\nQ 37.453125 56 38.578125 55.875 \r\nQ 39.703125 55.765625 41.0625 55.515625 \r\nz\r\n\" id=\"DejaVuSans-114\"/>\r\n      <path d=\"M 30.609375 48.390625 \r\nQ 23.390625 48.390625 19.1875 42.75 \r\nQ 14.984375 37.109375 14.984375 27.296875 \r\nQ 14.984375 17.484375 19.15625 11.84375 \r\nQ 23.34375 6.203125 30.609375 6.203125 \r\nQ 37.796875 6.203125 41.984375 11.859375 \r\nQ 46.1875 17.53125 46.1875 27.296875 \r\nQ 46.1875 37.015625 41.984375 42.703125 \r\nQ 37.796875 48.390625 30.609375 48.390625 \r\nz\r\nM 30.609375 56 \r\nQ 42.328125 56 49.015625 48.375 \r\nQ 55.71875 40.765625 55.71875 27.296875 \r\nQ 55.71875 13.875 49.015625 6.21875 \r\nQ 42.328125 -1.421875 30.609375 -1.421875 \r\nQ 18.84375 -1.421875 12.171875 6.21875 \r\nQ 5.515625 13.875 5.515625 27.296875 \r\nQ 5.515625 40.765625 12.171875 48.375 \r\nQ 18.84375 56 30.609375 56 \r\nz\r\n\" id=\"DejaVuSans-111\"/>\r\n      <path d=\"M 48.6875 27.296875 \r\nQ 48.6875 37.203125 44.609375 42.84375 \r\nQ 40.53125 48.484375 33.40625 48.484375 \r\nQ 26.265625 48.484375 22.1875 42.84375 \r\nQ 18.109375 37.203125 18.109375 27.296875 \r\nQ 18.109375 17.390625 22.1875 11.75 \r\nQ 26.265625 6.109375 33.40625 6.109375 \r\nQ 40.53125 6.109375 44.609375 11.75 \r\nQ 48.6875 17.390625 48.6875 27.296875 \r\nz\r\nM 18.109375 46.390625 \r\nQ 20.953125 51.265625 25.265625 53.625 \r\nQ 29.59375 56 35.59375 56 \r\nQ 45.5625 56 51.78125 48.09375 \r\nQ 58.015625 40.1875 58.015625 27.296875 \r\nQ 58.015625 14.40625 51.78125 6.484375 \r\nQ 45.5625 -1.421875 35.59375 -1.421875 \r\nQ 29.59375 -1.421875 25.265625 0.953125 \r\nQ 20.953125 3.328125 18.109375 8.203125 \r\nL 18.109375 0 \r\nL 9.078125 0 \r\nL 9.078125 75.984375 \r\nL 18.109375 75.984375 \r\nz\r\n\" id=\"DejaVuSans-98\"/>\r\n     </defs>\r\n     <g transform=\"translate(67.103125 23.798438)scale(0.1 -0.1)\">\r\n      <use xlink:href=\"#DejaVuSans-67\"/>\r\n      <use x=\"69.824219\" xlink:href=\"#DejaVuSans-117\"/>\r\n      <use x=\"133.203125\" xlink:href=\"#DejaVuSans-109\"/>\r\n      <use x=\"230.615234\" xlink:href=\"#DejaVuSans-80\"/>\r\n      <use x=\"290.902344\" xlink:href=\"#DejaVuSans-114\"/>\r\n      <use x=\"331.984375\" xlink:href=\"#DejaVuSans-111\"/>\r\n      <use x=\"393.166016\" xlink:href=\"#DejaVuSans-98\"/>\r\n     </g>\r\n    </g>\r\n   </g>\r\n  </g>\r\n </g>\r\n <defs>\r\n  <clipPath id=\"pf48d50cf06\">\r\n   <rect height=\"217.44\" width=\"334.8\" x=\"30.103125\" y=\"7.2\"/>\r\n  </clipPath>\r\n </defs>\r\n</svg>\r\n",
      "image/png": "[encoded data removed]"
     },
     "metadata": {
      "needs_background": "light"
     }
    }
   ],
   "source": [
    "prob = pd.DataFrame(columns=['Lengths', 'CumProb']) \n",
    "totalLen = len(winProd10pct.index)\n",
    "\n",
    "for x in range(0,100):\n",
    "    lengths = x / 4\n",
    "    prob = prob.append({'Lengths': lengths, 'CumProb' : len(winProd10pct[winProd10pct.Margin <= lengths].index) / totalLen}, ignore_index=True)\n",
    "\n",
    "\n",
    "prob.plot(x='Lengths', y='CumProb', kind='line')"
   ]
  },
  {
   "source": [
    "## Quick look at distance impacts"
   ],
   "cell_type": "markdown",
   "metadata": {}
  },
  {
   "cell_type": "code",
   "execution_count": 17,
   "metadata": {},
   "outputs": [
    {
     "output_type": "stream",
     "name": "stdout",
     "text": [
      "3.629686731179239\n3.8016470049999835\n4.560608814175401\n7.9877934272300495\n"
     ]
    }
   ],
   "source": [
    "winProd10pctUnder1100 = winProd10pct[winProd10pct.raceLength < 1100].copy()\n",
    "winProd10pctUnder1500 = winProd10pct[winProd10pct.raceLength < 1500].copy()\n",
    "winProd10pctOver1500 = winProd10pct[winProd10pct.raceLength >= 1500].copy()\n",
    "winProd10pctOver2500 = winProd10pct[winProd10pct.raceLength >= 2500].copy()\n",
    "\n",
    "print(winProd10pctUnder1100['Margin'].mean())\n",
    "print(winProd10pctUnder1500['Margin'].mean())\n",
    "print(winProd10pctOver1500['Margin'].mean())\n",
    "print(winProd10pctOver2500['Margin'].mean())"
   ]
  }
 ],
 "metadata": {
  "kernelspec": {
   "display_name": "Python 3",
   "language": "python",
   "name": "python3"
  },
  "language_info": {
   "codemirror_mode": {
    "name": "ipython",
    "version": 3
   },
   "file_extension": ".py",
   "mimetype": "text/x-python",
   "name": "python",
   "nbconvert_exporter": "python",
   "pygments_lexer": "ipython3",
   "version": "3.8.5-final"
  }
 },
 "nbformat": 4,
 "nbformat_minor": 2
}